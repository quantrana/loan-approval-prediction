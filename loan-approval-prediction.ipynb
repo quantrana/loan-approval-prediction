{
  "nbformat": 4,
  "nbformat_minor": 0,
  "metadata": {
    "colab": {
      "provenance": [],
      "collapsed_sections": [
        "6mu2T_WtkSm1"
      ]
    },
    "kernelspec": {
      "name": "python3",
      "display_name": "Python 3"
    },
    "language_info": {
      "name": "python"
    }
  },
  "cells": [
    {
      "cell_type": "markdown",
      "source": [
        "#### **The Problem: Predicting Loan Approval**\n",
        "The task is to build a machine learning model to predict whether a loan application will be approved or not based on applicant details and financial metrics. Loan approval decisions are critical for financial institutions as they must balance the risk of defaults with customer inclusivity. Accurate predictions can streamline the approval process, minimize financial risks, and enhance customer satisfaction.\n",
        "\n",
        "---\n",
        "\n",
        "#### **The Dataset**\n",
        "The dataset is curated for **loan approval prediction** and contains **32,581 entries** with **12 features** that include:\n",
        "\n",
        "1. **Applicant Information:**\n",
        "   - `person_age`: Age of the applicant.\n",
        "   - `person_income`: Annual income in USD.\n",
        "   - `person_home_ownership`: Homeownership status (e.g., Rent, Own, Mortgage).\n",
        "   - `person_emp_length`: Employment length in years.\n",
        "\n",
        "2. **Loan Details:**\n",
        "   - `loan_intent`: Purpose of the loan (e.g., Education, Medical, Personal).\n",
        "   - `loan_grade`: Risk grade assessing creditworthiness.\n",
        "   - `loan_amnt`: Loan amount requested.\n",
        "   - `loan_int_rate`: Interest rate associated with the loan.\n",
        "   - `loan_percent_income`: Percentage of income allocated for loan repayment.\n",
        "\n",
        "3. **Credit History:**\n",
        "   - `cb_person_default_on_file`: Indicator of prior defaults ('Y' or 'N').\n",
        "   - `cb_person_cred_hist_length`: Length of credit history in years.\n",
        "\n",
        "4. **Target Variable:**\n",
        "   - `loan_status`: Indicates whether the loan was approved (`1`) or not (`0`).\n",
        "\n",
        "---\n",
        "\n",
        "#### **Dataset Source**\n",
        "This dataset is from Kaggle: **PS4E9 || Loan Approval Prediction Dataset**, designed for developing machine learning models to predict loan outcomes based on diverse applicant and loan characteristics.\n",
        "https://docs.google.com/document/d/1JcaW8tkFnjMXAS011on-MxWt44KY_w9NDPHv4qqUfVI/edit?usp=sharing"
      ],
      "metadata": {
        "id": "wtLi8-6S6764"
      }
    },
    {
      "cell_type": "markdown",
      "source": [
        "Mounting Google Drive"
      ],
      "metadata": {
        "id": "tq1NL6oF4Ge2"
      }
    },
    {
      "cell_type": "code",
      "execution_count": 2,
      "metadata": {
        "colab": {
          "base_uri": "https://localhost:8080/"
        },
        "id": "dI56no45pPum",
        "outputId": "4dab3cd6-5a6e-4a11-9f91-12866ae16e83"
      },
      "outputs": [
        {
          "output_type": "stream",
          "name": "stdout",
          "text": [
            "Mounted at /content/drive\n"
          ]
        }
      ],
      "source": [
        "from google.colab import drive\n",
        "drive.mount('/content/drive')"
      ]
    },
    {
      "cell_type": "code",
      "source": [
        "cd /content/drive/MyDrive/IAI/Assignment2"
      ],
      "metadata": {
        "colab": {
          "base_uri": "https://localhost:8080/"
        },
        "id": "T8vR-rxppYia",
        "outputId": "99d6c93c-d91a-4be9-ab9d-107f45fdebf9"
      },
      "execution_count": 3,
      "outputs": [
        {
          "output_type": "stream",
          "name": "stdout",
          "text": [
            "/content/drive/MyDrive/IAI/Assignment2\n"
          ]
        }
      ]
    },
    {
      "cell_type": "markdown",
      "source": [
        "Importing libraries"
      ],
      "metadata": {
        "id": "XoSeW5Bs4JNH"
      }
    },
    {
      "cell_type": "code",
      "source": [
        "import pandas as pd\n",
        "import numpy as np\n",
        "import matplotlib.pyplot as plt\n",
        "import seaborn as sns\n",
        "from sklearn.preprocessing import LabelEncoder\n",
        "from sklearn.model_selection import train_test_split\n",
        "from sklearn.linear_model import LogisticRegression\n",
        "from sklearn import metrics\n",
        "from sklearn.metrics import ConfusionMatrixDisplay, confusion_matrix\n",
        "from sklearn.metrics import accuracy_score\n",
        "from sklearn.experimental import enable_iterative_imputer  # Enables IterativeImputer in sklearn\n",
        "from sklearn.impute import IterativeImputer\n",
        "from sklearn.utils import resample\n"
      ],
      "metadata": {
        "id": "8dk1p6fcpyOR"
      },
      "execution_count": 4,
      "outputs": []
    },
    {
      "cell_type": "markdown",
      "source": [
        "## EDA\n"
      ],
      "metadata": {
        "id": "_zaWOzeiFJbA"
      }
    },
    {
      "cell_type": "code",
      "source": [
        "df = pd.read_csv('credit_risk_dataset.csv')\n",
        "df.head(10)"
      ],
      "metadata": {
        "colab": {
          "base_uri": "https://localhost:8080/",
          "height": 363
        },
        "id": "Yy_XoKUAp1wC",
        "outputId": "d31d553e-3264-4beb-e0ce-71a87e285473"
      },
      "execution_count": 5,
      "outputs": [
        {
          "output_type": "execute_result",
          "data": {
            "text/plain": [
              "   person_age  person_income person_home_ownership  person_emp_length  \\\n",
              "0          22          59000                  RENT              123.0   \n",
              "1          21           9600                   OWN                5.0   \n",
              "2          25           9600              MORTGAGE                1.0   \n",
              "3          23          65500                  RENT                4.0   \n",
              "4          24          54400                  RENT                8.0   \n",
              "5          21           9900                   OWN                2.0   \n",
              "6          26          77100                  RENT                8.0   \n",
              "7          24          78956                  RENT                5.0   \n",
              "8          24          83000                  RENT                8.0   \n",
              "9          21          10000                   OWN                6.0   \n",
              "\n",
              "  loan_intent loan_grade  loan_amnt  loan_int_rate  loan_status  \\\n",
              "0    PERSONAL          D      35000          16.02            1   \n",
              "1   EDUCATION          B       1000          11.14            0   \n",
              "2     MEDICAL          C       5500          12.87            1   \n",
              "3     MEDICAL          C      35000          15.23            1   \n",
              "4     MEDICAL          C      35000          14.27            1   \n",
              "5     VENTURE          A       2500           7.14            1   \n",
              "6   EDUCATION          B      35000          12.42            1   \n",
              "7     MEDICAL          B      35000          11.11            1   \n",
              "8    PERSONAL          A      35000           8.90            1   \n",
              "9     VENTURE          D       1600          14.74            1   \n",
              "\n",
              "   loan_percent_income cb_person_default_on_file  cb_person_cred_hist_length  \n",
              "0                 0.59                         Y                           3  \n",
              "1                 0.10                         N                           2  \n",
              "2                 0.57                         N                           3  \n",
              "3                 0.53                         N                           2  \n",
              "4                 0.55                         Y                           4  \n",
              "5                 0.25                         N                           2  \n",
              "6                 0.45                         N                           3  \n",
              "7                 0.44                         N                           4  \n",
              "8                 0.42                         N                           2  \n",
              "9                 0.16                         N                           3  "
            ],
            "text/html": [
              "\n",
              "  <div id=\"df-963f438c-9455-4eb7-b03a-f677f8a9640f\" class=\"colab-df-container\">\n",
              "    <div>\n",
              "<style scoped>\n",
              "    .dataframe tbody tr th:only-of-type {\n",
              "        vertical-align: middle;\n",
              "    }\n",
              "\n",
              "    .dataframe tbody tr th {\n",
              "        vertical-align: top;\n",
              "    }\n",
              "\n",
              "    .dataframe thead th {\n",
              "        text-align: right;\n",
              "    }\n",
              "</style>\n",
              "<table border=\"1\" class=\"dataframe\">\n",
              "  <thead>\n",
              "    <tr style=\"text-align: right;\">\n",
              "      <th></th>\n",
              "      <th>person_age</th>\n",
              "      <th>person_income</th>\n",
              "      <th>person_home_ownership</th>\n",
              "      <th>person_emp_length</th>\n",
              "      <th>loan_intent</th>\n",
              "      <th>loan_grade</th>\n",
              "      <th>loan_amnt</th>\n",
              "      <th>loan_int_rate</th>\n",
              "      <th>loan_status</th>\n",
              "      <th>loan_percent_income</th>\n",
              "      <th>cb_person_default_on_file</th>\n",
              "      <th>cb_person_cred_hist_length</th>\n",
              "    </tr>\n",
              "  </thead>\n",
              "  <tbody>\n",
              "    <tr>\n",
              "      <th>0</th>\n",
              "      <td>22</td>\n",
              "      <td>59000</td>\n",
              "      <td>RENT</td>\n",
              "      <td>123.0</td>\n",
              "      <td>PERSONAL</td>\n",
              "      <td>D</td>\n",
              "      <td>35000</td>\n",
              "      <td>16.02</td>\n",
              "      <td>1</td>\n",
              "      <td>0.59</td>\n",
              "      <td>Y</td>\n",
              "      <td>3</td>\n",
              "    </tr>\n",
              "    <tr>\n",
              "      <th>1</th>\n",
              "      <td>21</td>\n",
              "      <td>9600</td>\n",
              "      <td>OWN</td>\n",
              "      <td>5.0</td>\n",
              "      <td>EDUCATION</td>\n",
              "      <td>B</td>\n",
              "      <td>1000</td>\n",
              "      <td>11.14</td>\n",
              "      <td>0</td>\n",
              "      <td>0.10</td>\n",
              "      <td>N</td>\n",
              "      <td>2</td>\n",
              "    </tr>\n",
              "    <tr>\n",
              "      <th>2</th>\n",
              "      <td>25</td>\n",
              "      <td>9600</td>\n",
              "      <td>MORTGAGE</td>\n",
              "      <td>1.0</td>\n",
              "      <td>MEDICAL</td>\n",
              "      <td>C</td>\n",
              "      <td>5500</td>\n",
              "      <td>12.87</td>\n",
              "      <td>1</td>\n",
              "      <td>0.57</td>\n",
              "      <td>N</td>\n",
              "      <td>3</td>\n",
              "    </tr>\n",
              "    <tr>\n",
              "      <th>3</th>\n",
              "      <td>23</td>\n",
              "      <td>65500</td>\n",
              "      <td>RENT</td>\n",
              "      <td>4.0</td>\n",
              "      <td>MEDICAL</td>\n",
              "      <td>C</td>\n",
              "      <td>35000</td>\n",
              "      <td>15.23</td>\n",
              "      <td>1</td>\n",
              "      <td>0.53</td>\n",
              "      <td>N</td>\n",
              "      <td>2</td>\n",
              "    </tr>\n",
              "    <tr>\n",
              "      <th>4</th>\n",
              "      <td>24</td>\n",
              "      <td>54400</td>\n",
              "      <td>RENT</td>\n",
              "      <td>8.0</td>\n",
              "      <td>MEDICAL</td>\n",
              "      <td>C</td>\n",
              "      <td>35000</td>\n",
              "      <td>14.27</td>\n",
              "      <td>1</td>\n",
              "      <td>0.55</td>\n",
              "      <td>Y</td>\n",
              "      <td>4</td>\n",
              "    </tr>\n",
              "    <tr>\n",
              "      <th>5</th>\n",
              "      <td>21</td>\n",
              "      <td>9900</td>\n",
              "      <td>OWN</td>\n",
              "      <td>2.0</td>\n",
              "      <td>VENTURE</td>\n",
              "      <td>A</td>\n",
              "      <td>2500</td>\n",
              "      <td>7.14</td>\n",
              "      <td>1</td>\n",
              "      <td>0.25</td>\n",
              "      <td>N</td>\n",
              "      <td>2</td>\n",
              "    </tr>\n",
              "    <tr>\n",
              "      <th>6</th>\n",
              "      <td>26</td>\n",
              "      <td>77100</td>\n",
              "      <td>RENT</td>\n",
              "      <td>8.0</td>\n",
              "      <td>EDUCATION</td>\n",
              "      <td>B</td>\n",
              "      <td>35000</td>\n",
              "      <td>12.42</td>\n",
              "      <td>1</td>\n",
              "      <td>0.45</td>\n",
              "      <td>N</td>\n",
              "      <td>3</td>\n",
              "    </tr>\n",
              "    <tr>\n",
              "      <th>7</th>\n",
              "      <td>24</td>\n",
              "      <td>78956</td>\n",
              "      <td>RENT</td>\n",
              "      <td>5.0</td>\n",
              "      <td>MEDICAL</td>\n",
              "      <td>B</td>\n",
              "      <td>35000</td>\n",
              "      <td>11.11</td>\n",
              "      <td>1</td>\n",
              "      <td>0.44</td>\n",
              "      <td>N</td>\n",
              "      <td>4</td>\n",
              "    </tr>\n",
              "    <tr>\n",
              "      <th>8</th>\n",
              "      <td>24</td>\n",
              "      <td>83000</td>\n",
              "      <td>RENT</td>\n",
              "      <td>8.0</td>\n",
              "      <td>PERSONAL</td>\n",
              "      <td>A</td>\n",
              "      <td>35000</td>\n",
              "      <td>8.90</td>\n",
              "      <td>1</td>\n",
              "      <td>0.42</td>\n",
              "      <td>N</td>\n",
              "      <td>2</td>\n",
              "    </tr>\n",
              "    <tr>\n",
              "      <th>9</th>\n",
              "      <td>21</td>\n",
              "      <td>10000</td>\n",
              "      <td>OWN</td>\n",
              "      <td>6.0</td>\n",
              "      <td>VENTURE</td>\n",
              "      <td>D</td>\n",
              "      <td>1600</td>\n",
              "      <td>14.74</td>\n",
              "      <td>1</td>\n",
              "      <td>0.16</td>\n",
              "      <td>N</td>\n",
              "      <td>3</td>\n",
              "    </tr>\n",
              "  </tbody>\n",
              "</table>\n",
              "</div>\n",
              "    <div class=\"colab-df-buttons\">\n",
              "\n",
              "  <div class=\"colab-df-container\">\n",
              "    <button class=\"colab-df-convert\" onclick=\"convertToInteractive('df-963f438c-9455-4eb7-b03a-f677f8a9640f')\"\n",
              "            title=\"Convert this dataframe to an interactive table.\"\n",
              "            style=\"display:none;\">\n",
              "\n",
              "  <svg xmlns=\"http://www.w3.org/2000/svg\" height=\"24px\" viewBox=\"0 -960 960 960\">\n",
              "    <path d=\"M120-120v-720h720v720H120Zm60-500h600v-160H180v160Zm220 220h160v-160H400v160Zm0 220h160v-160H400v160ZM180-400h160v-160H180v160Zm440 0h160v-160H620v160ZM180-180h160v-160H180v160Zm440 0h160v-160H620v160Z\"/>\n",
              "  </svg>\n",
              "    </button>\n",
              "\n",
              "  <style>\n",
              "    .colab-df-container {\n",
              "      display:flex;\n",
              "      gap: 12px;\n",
              "    }\n",
              "\n",
              "    .colab-df-convert {\n",
              "      background-color: #E8F0FE;\n",
              "      border: none;\n",
              "      border-radius: 50%;\n",
              "      cursor: pointer;\n",
              "      display: none;\n",
              "      fill: #1967D2;\n",
              "      height: 32px;\n",
              "      padding: 0 0 0 0;\n",
              "      width: 32px;\n",
              "    }\n",
              "\n",
              "    .colab-df-convert:hover {\n",
              "      background-color: #E2EBFA;\n",
              "      box-shadow: 0px 1px 2px rgba(60, 64, 67, 0.3), 0px 1px 3px 1px rgba(60, 64, 67, 0.15);\n",
              "      fill: #174EA6;\n",
              "    }\n",
              "\n",
              "    .colab-df-buttons div {\n",
              "      margin-bottom: 4px;\n",
              "    }\n",
              "\n",
              "    [theme=dark] .colab-df-convert {\n",
              "      background-color: #3B4455;\n",
              "      fill: #D2E3FC;\n",
              "    }\n",
              "\n",
              "    [theme=dark] .colab-df-convert:hover {\n",
              "      background-color: #434B5C;\n",
              "      box-shadow: 0px 1px 3px 1px rgba(0, 0, 0, 0.15);\n",
              "      filter: drop-shadow(0px 1px 2px rgba(0, 0, 0, 0.3));\n",
              "      fill: #FFFFFF;\n",
              "    }\n",
              "  </style>\n",
              "\n",
              "    <script>\n",
              "      const buttonEl =\n",
              "        document.querySelector('#df-963f438c-9455-4eb7-b03a-f677f8a9640f button.colab-df-convert');\n",
              "      buttonEl.style.display =\n",
              "        google.colab.kernel.accessAllowed ? 'block' : 'none';\n",
              "\n",
              "      async function convertToInteractive(key) {\n",
              "        const element = document.querySelector('#df-963f438c-9455-4eb7-b03a-f677f8a9640f');\n",
              "        const dataTable =\n",
              "          await google.colab.kernel.invokeFunction('convertToInteractive',\n",
              "                                                    [key], {});\n",
              "        if (!dataTable) return;\n",
              "\n",
              "        const docLinkHtml = 'Like what you see? Visit the ' +\n",
              "          '<a target=\"_blank\" href=https://colab.research.google.com/notebooks/data_table.ipynb>data table notebook</a>'\n",
              "          + ' to learn more about interactive tables.';\n",
              "        element.innerHTML = '';\n",
              "        dataTable['output_type'] = 'display_data';\n",
              "        await google.colab.output.renderOutput(dataTable, element);\n",
              "        const docLink = document.createElement('div');\n",
              "        docLink.innerHTML = docLinkHtml;\n",
              "        element.appendChild(docLink);\n",
              "      }\n",
              "    </script>\n",
              "  </div>\n",
              "\n",
              "\n",
              "<div id=\"df-a7061131-c246-4aab-a193-2031838f691c\">\n",
              "  <button class=\"colab-df-quickchart\" onclick=\"quickchart('df-a7061131-c246-4aab-a193-2031838f691c')\"\n",
              "            title=\"Suggest charts\"\n",
              "            style=\"display:none;\">\n",
              "\n",
              "<svg xmlns=\"http://www.w3.org/2000/svg\" height=\"24px\"viewBox=\"0 0 24 24\"\n",
              "     width=\"24px\">\n",
              "    <g>\n",
              "        <path d=\"M19 3H5c-1.1 0-2 .9-2 2v14c0 1.1.9 2 2 2h14c1.1 0 2-.9 2-2V5c0-1.1-.9-2-2-2zM9 17H7v-7h2v7zm4 0h-2V7h2v10zm4 0h-2v-4h2v4z\"/>\n",
              "    </g>\n",
              "</svg>\n",
              "  </button>\n",
              "\n",
              "<style>\n",
              "  .colab-df-quickchart {\n",
              "      --bg-color: #E8F0FE;\n",
              "      --fill-color: #1967D2;\n",
              "      --hover-bg-color: #E2EBFA;\n",
              "      --hover-fill-color: #174EA6;\n",
              "      --disabled-fill-color: #AAA;\n",
              "      --disabled-bg-color: #DDD;\n",
              "  }\n",
              "\n",
              "  [theme=dark] .colab-df-quickchart {\n",
              "      --bg-color: #3B4455;\n",
              "      --fill-color: #D2E3FC;\n",
              "      --hover-bg-color: #434B5C;\n",
              "      --hover-fill-color: #FFFFFF;\n",
              "      --disabled-bg-color: #3B4455;\n",
              "      --disabled-fill-color: #666;\n",
              "  }\n",
              "\n",
              "  .colab-df-quickchart {\n",
              "    background-color: var(--bg-color);\n",
              "    border: none;\n",
              "    border-radius: 50%;\n",
              "    cursor: pointer;\n",
              "    display: none;\n",
              "    fill: var(--fill-color);\n",
              "    height: 32px;\n",
              "    padding: 0;\n",
              "    width: 32px;\n",
              "  }\n",
              "\n",
              "  .colab-df-quickchart:hover {\n",
              "    background-color: var(--hover-bg-color);\n",
              "    box-shadow: 0 1px 2px rgba(60, 64, 67, 0.3), 0 1px 3px 1px rgba(60, 64, 67, 0.15);\n",
              "    fill: var(--button-hover-fill-color);\n",
              "  }\n",
              "\n",
              "  .colab-df-quickchart-complete:disabled,\n",
              "  .colab-df-quickchart-complete:disabled:hover {\n",
              "    background-color: var(--disabled-bg-color);\n",
              "    fill: var(--disabled-fill-color);\n",
              "    box-shadow: none;\n",
              "  }\n",
              "\n",
              "  .colab-df-spinner {\n",
              "    border: 2px solid var(--fill-color);\n",
              "    border-color: transparent;\n",
              "    border-bottom-color: var(--fill-color);\n",
              "    animation:\n",
              "      spin 1s steps(1) infinite;\n",
              "  }\n",
              "\n",
              "  @keyframes spin {\n",
              "    0% {\n",
              "      border-color: transparent;\n",
              "      border-bottom-color: var(--fill-color);\n",
              "      border-left-color: var(--fill-color);\n",
              "    }\n",
              "    20% {\n",
              "      border-color: transparent;\n",
              "      border-left-color: var(--fill-color);\n",
              "      border-top-color: var(--fill-color);\n",
              "    }\n",
              "    30% {\n",
              "      border-color: transparent;\n",
              "      border-left-color: var(--fill-color);\n",
              "      border-top-color: var(--fill-color);\n",
              "      border-right-color: var(--fill-color);\n",
              "    }\n",
              "    40% {\n",
              "      border-color: transparent;\n",
              "      border-right-color: var(--fill-color);\n",
              "      border-top-color: var(--fill-color);\n",
              "    }\n",
              "    60% {\n",
              "      border-color: transparent;\n",
              "      border-right-color: var(--fill-color);\n",
              "    }\n",
              "    80% {\n",
              "      border-color: transparent;\n",
              "      border-right-color: var(--fill-color);\n",
              "      border-bottom-color: var(--fill-color);\n",
              "    }\n",
              "    90% {\n",
              "      border-color: transparent;\n",
              "      border-bottom-color: var(--fill-color);\n",
              "    }\n",
              "  }\n",
              "</style>\n",
              "\n",
              "  <script>\n",
              "    async function quickchart(key) {\n",
              "      const quickchartButtonEl =\n",
              "        document.querySelector('#' + key + ' button');\n",
              "      quickchartButtonEl.disabled = true;  // To prevent multiple clicks.\n",
              "      quickchartButtonEl.classList.add('colab-df-spinner');\n",
              "      try {\n",
              "        const charts = await google.colab.kernel.invokeFunction(\n",
              "            'suggestCharts', [key], {});\n",
              "      } catch (error) {\n",
              "        console.error('Error during call to suggestCharts:', error);\n",
              "      }\n",
              "      quickchartButtonEl.classList.remove('colab-df-spinner');\n",
              "      quickchartButtonEl.classList.add('colab-df-quickchart-complete');\n",
              "    }\n",
              "    (() => {\n",
              "      let quickchartButtonEl =\n",
              "        document.querySelector('#df-a7061131-c246-4aab-a193-2031838f691c button');\n",
              "      quickchartButtonEl.style.display =\n",
              "        google.colab.kernel.accessAllowed ? 'block' : 'none';\n",
              "    })();\n",
              "  </script>\n",
              "</div>\n",
              "\n",
              "    </div>\n",
              "  </div>\n"
            ],
            "application/vnd.google.colaboratory.intrinsic+json": {
              "type": "dataframe",
              "variable_name": "df",
              "summary": "{\n  \"name\": \"df\",\n  \"rows\": 32581,\n  \"fields\": [\n    {\n      \"column\": \"person_age\",\n      \"properties\": {\n        \"dtype\": \"number\",\n        \"std\": 6,\n        \"min\": 20,\n        \"max\": 144,\n        \"num_unique_values\": 58,\n        \"samples\": [\n          22,\n          26,\n          65\n        ],\n        \"semantic_type\": \"\",\n        \"description\": \"\"\n      }\n    },\n    {\n      \"column\": \"person_income\",\n      \"properties\": {\n        \"dtype\": \"number\",\n        \"std\": 61983,\n        \"min\": 4000,\n        \"max\": 6000000,\n        \"num_unique_values\": 4295,\n        \"samples\": [\n          20800,\n          54417,\n          144000\n        ],\n        \"semantic_type\": \"\",\n        \"description\": \"\"\n      }\n    },\n    {\n      \"column\": \"person_home_ownership\",\n      \"properties\": {\n        \"dtype\": \"category\",\n        \"num_unique_values\": 4,\n        \"samples\": [\n          \"OWN\",\n          \"OTHER\",\n          \"RENT\"\n        ],\n        \"semantic_type\": \"\",\n        \"description\": \"\"\n      }\n    },\n    {\n      \"column\": \"person_emp_length\",\n      \"properties\": {\n        \"dtype\": \"number\",\n        \"std\": 4.142630148887972,\n        \"min\": 0.0,\n        \"max\": 123.0,\n        \"num_unique_values\": 36,\n        \"samples\": [\n          30.0,\n          18.0,\n          26.0\n        ],\n        \"semantic_type\": \"\",\n        \"description\": \"\"\n      }\n    },\n    {\n      \"column\": \"loan_intent\",\n      \"properties\": {\n        \"dtype\": \"category\",\n        \"num_unique_values\": 6,\n        \"samples\": [\n          \"PERSONAL\",\n          \"EDUCATION\",\n          \"DEBTCONSOLIDATION\"\n        ],\n        \"semantic_type\": \"\",\n        \"description\": \"\"\n      }\n    },\n    {\n      \"column\": \"loan_grade\",\n      \"properties\": {\n        \"dtype\": \"category\",\n        \"num_unique_values\": 7,\n        \"samples\": [\n          \"D\",\n          \"B\",\n          \"F\"\n        ],\n        \"semantic_type\": \"\",\n        \"description\": \"\"\n      }\n    },\n    {\n      \"column\": \"loan_amnt\",\n      \"properties\": {\n        \"dtype\": \"number\",\n        \"std\": 6322,\n        \"min\": 500,\n        \"max\": 35000,\n        \"num_unique_values\": 753,\n        \"samples\": [\n          13125,\n          3675,\n          13800\n        ],\n        \"semantic_type\": \"\",\n        \"description\": \"\"\n      }\n    },\n    {\n      \"column\": \"loan_int_rate\",\n      \"properties\": {\n        \"dtype\": \"number\",\n        \"std\": 3.2404594649559195,\n        \"min\": 5.42,\n        \"max\": 23.22,\n        \"num_unique_values\": 348,\n        \"samples\": [\n          10.28,\n          13.35,\n          18.07\n        ],\n        \"semantic_type\": \"\",\n        \"description\": \"\"\n      }\n    },\n    {\n      \"column\": \"loan_status\",\n      \"properties\": {\n        \"dtype\": \"number\",\n        \"std\": 0,\n        \"min\": 0,\n        \"max\": 1,\n        \"num_unique_values\": 2,\n        \"samples\": [\n          0,\n          1\n        ],\n        \"semantic_type\": \"\",\n        \"description\": \"\"\n      }\n    },\n    {\n      \"column\": \"loan_percent_income\",\n      \"properties\": {\n        \"dtype\": \"number\",\n        \"std\": 0.10678175634492885,\n        \"min\": 0.0,\n        \"max\": 0.83,\n        \"num_unique_values\": 77,\n        \"samples\": [\n          0.55,\n          0.34\n        ],\n        \"semantic_type\": \"\",\n        \"description\": \"\"\n      }\n    },\n    {\n      \"column\": \"cb_person_default_on_file\",\n      \"properties\": {\n        \"dtype\": \"category\",\n        \"num_unique_values\": 2,\n        \"samples\": [\n          \"N\",\n          \"Y\"\n        ],\n        \"semantic_type\": \"\",\n        \"description\": \"\"\n      }\n    },\n    {\n      \"column\": \"cb_person_cred_hist_length\",\n      \"properties\": {\n        \"dtype\": \"number\",\n        \"std\": 4,\n        \"min\": 2,\n        \"max\": 30,\n        \"num_unique_values\": 29,\n        \"samples\": [\n          24,\n          25\n        ],\n        \"semantic_type\": \"\",\n        \"description\": \"\"\n      }\n    }\n  ]\n}"
            }
          },
          "metadata": {},
          "execution_count": 5
        }
      ]
    },
    {
      "cell_type": "code",
      "source": [
        "df.describe()"
      ],
      "metadata": {
        "colab": {
          "base_uri": "https://localhost:8080/",
          "height": 300
        },
        "id": "WQNx6NLdse20",
        "outputId": "f0ac1b97-5950-4fbc-e12c-7a6666593a36"
      },
      "execution_count": 6,
      "outputs": [
        {
          "output_type": "execute_result",
          "data": {
            "text/plain": [
              "         person_age  person_income  person_emp_length     loan_amnt  \\\n",
              "count  32581.000000   3.258100e+04       31686.000000  32581.000000   \n",
              "mean      27.734600   6.607485e+04           4.789686   9589.371106   \n",
              "std        6.348078   6.198312e+04           4.142630   6322.086646   \n",
              "min       20.000000   4.000000e+03           0.000000    500.000000   \n",
              "25%       23.000000   3.850000e+04           2.000000   5000.000000   \n",
              "50%       26.000000   5.500000e+04           4.000000   8000.000000   \n",
              "75%       30.000000   7.920000e+04           7.000000  12200.000000   \n",
              "max      144.000000   6.000000e+06         123.000000  35000.000000   \n",
              "\n",
              "       loan_int_rate   loan_status  loan_percent_income  \\\n",
              "count   29465.000000  32581.000000         32581.000000   \n",
              "mean       11.011695      0.218164             0.170203   \n",
              "std         3.240459      0.413006             0.106782   \n",
              "min         5.420000      0.000000             0.000000   \n",
              "25%         7.900000      0.000000             0.090000   \n",
              "50%        10.990000      0.000000             0.150000   \n",
              "75%        13.470000      0.000000             0.230000   \n",
              "max        23.220000      1.000000             0.830000   \n",
              "\n",
              "       cb_person_cred_hist_length  \n",
              "count                32581.000000  \n",
              "mean                     5.804211  \n",
              "std                      4.055001  \n",
              "min                      2.000000  \n",
              "25%                      3.000000  \n",
              "50%                      4.000000  \n",
              "75%                      8.000000  \n",
              "max                     30.000000  "
            ],
            "text/html": [
              "\n",
              "  <div id=\"df-e8110827-39a0-481e-bd18-10d3fe29b9b9\" class=\"colab-df-container\">\n",
              "    <div>\n",
              "<style scoped>\n",
              "    .dataframe tbody tr th:only-of-type {\n",
              "        vertical-align: middle;\n",
              "    }\n",
              "\n",
              "    .dataframe tbody tr th {\n",
              "        vertical-align: top;\n",
              "    }\n",
              "\n",
              "    .dataframe thead th {\n",
              "        text-align: right;\n",
              "    }\n",
              "</style>\n",
              "<table border=\"1\" class=\"dataframe\">\n",
              "  <thead>\n",
              "    <tr style=\"text-align: right;\">\n",
              "      <th></th>\n",
              "      <th>person_age</th>\n",
              "      <th>person_income</th>\n",
              "      <th>person_emp_length</th>\n",
              "      <th>loan_amnt</th>\n",
              "      <th>loan_int_rate</th>\n",
              "      <th>loan_status</th>\n",
              "      <th>loan_percent_income</th>\n",
              "      <th>cb_person_cred_hist_length</th>\n",
              "    </tr>\n",
              "  </thead>\n",
              "  <tbody>\n",
              "    <tr>\n",
              "      <th>count</th>\n",
              "      <td>32581.000000</td>\n",
              "      <td>3.258100e+04</td>\n",
              "      <td>31686.000000</td>\n",
              "      <td>32581.000000</td>\n",
              "      <td>29465.000000</td>\n",
              "      <td>32581.000000</td>\n",
              "      <td>32581.000000</td>\n",
              "      <td>32581.000000</td>\n",
              "    </tr>\n",
              "    <tr>\n",
              "      <th>mean</th>\n",
              "      <td>27.734600</td>\n",
              "      <td>6.607485e+04</td>\n",
              "      <td>4.789686</td>\n",
              "      <td>9589.371106</td>\n",
              "      <td>11.011695</td>\n",
              "      <td>0.218164</td>\n",
              "      <td>0.170203</td>\n",
              "      <td>5.804211</td>\n",
              "    </tr>\n",
              "    <tr>\n",
              "      <th>std</th>\n",
              "      <td>6.348078</td>\n",
              "      <td>6.198312e+04</td>\n",
              "      <td>4.142630</td>\n",
              "      <td>6322.086646</td>\n",
              "      <td>3.240459</td>\n",
              "      <td>0.413006</td>\n",
              "      <td>0.106782</td>\n",
              "      <td>4.055001</td>\n",
              "    </tr>\n",
              "    <tr>\n",
              "      <th>min</th>\n",
              "      <td>20.000000</td>\n",
              "      <td>4.000000e+03</td>\n",
              "      <td>0.000000</td>\n",
              "      <td>500.000000</td>\n",
              "      <td>5.420000</td>\n",
              "      <td>0.000000</td>\n",
              "      <td>0.000000</td>\n",
              "      <td>2.000000</td>\n",
              "    </tr>\n",
              "    <tr>\n",
              "      <th>25%</th>\n",
              "      <td>23.000000</td>\n",
              "      <td>3.850000e+04</td>\n",
              "      <td>2.000000</td>\n",
              "      <td>5000.000000</td>\n",
              "      <td>7.900000</td>\n",
              "      <td>0.000000</td>\n",
              "      <td>0.090000</td>\n",
              "      <td>3.000000</td>\n",
              "    </tr>\n",
              "    <tr>\n",
              "      <th>50%</th>\n",
              "      <td>26.000000</td>\n",
              "      <td>5.500000e+04</td>\n",
              "      <td>4.000000</td>\n",
              "      <td>8000.000000</td>\n",
              "      <td>10.990000</td>\n",
              "      <td>0.000000</td>\n",
              "      <td>0.150000</td>\n",
              "      <td>4.000000</td>\n",
              "    </tr>\n",
              "    <tr>\n",
              "      <th>75%</th>\n",
              "      <td>30.000000</td>\n",
              "      <td>7.920000e+04</td>\n",
              "      <td>7.000000</td>\n",
              "      <td>12200.000000</td>\n",
              "      <td>13.470000</td>\n",
              "      <td>0.000000</td>\n",
              "      <td>0.230000</td>\n",
              "      <td>8.000000</td>\n",
              "    </tr>\n",
              "    <tr>\n",
              "      <th>max</th>\n",
              "      <td>144.000000</td>\n",
              "      <td>6.000000e+06</td>\n",
              "      <td>123.000000</td>\n",
              "      <td>35000.000000</td>\n",
              "      <td>23.220000</td>\n",
              "      <td>1.000000</td>\n",
              "      <td>0.830000</td>\n",
              "      <td>30.000000</td>\n",
              "    </tr>\n",
              "  </tbody>\n",
              "</table>\n",
              "</div>\n",
              "    <div class=\"colab-df-buttons\">\n",
              "\n",
              "  <div class=\"colab-df-container\">\n",
              "    <button class=\"colab-df-convert\" onclick=\"convertToInteractive('df-e8110827-39a0-481e-bd18-10d3fe29b9b9')\"\n",
              "            title=\"Convert this dataframe to an interactive table.\"\n",
              "            style=\"display:none;\">\n",
              "\n",
              "  <svg xmlns=\"http://www.w3.org/2000/svg\" height=\"24px\" viewBox=\"0 -960 960 960\">\n",
              "    <path d=\"M120-120v-720h720v720H120Zm60-500h600v-160H180v160Zm220 220h160v-160H400v160Zm0 220h160v-160H400v160ZM180-400h160v-160H180v160Zm440 0h160v-160H620v160ZM180-180h160v-160H180v160Zm440 0h160v-160H620v160Z\"/>\n",
              "  </svg>\n",
              "    </button>\n",
              "\n",
              "  <style>\n",
              "    .colab-df-container {\n",
              "      display:flex;\n",
              "      gap: 12px;\n",
              "    }\n",
              "\n",
              "    .colab-df-convert {\n",
              "      background-color: #E8F0FE;\n",
              "      border: none;\n",
              "      border-radius: 50%;\n",
              "      cursor: pointer;\n",
              "      display: none;\n",
              "      fill: #1967D2;\n",
              "      height: 32px;\n",
              "      padding: 0 0 0 0;\n",
              "      width: 32px;\n",
              "    }\n",
              "\n",
              "    .colab-df-convert:hover {\n",
              "      background-color: #E2EBFA;\n",
              "      box-shadow: 0px 1px 2px rgba(60, 64, 67, 0.3), 0px 1px 3px 1px rgba(60, 64, 67, 0.15);\n",
              "      fill: #174EA6;\n",
              "    }\n",
              "\n",
              "    .colab-df-buttons div {\n",
              "      margin-bottom: 4px;\n",
              "    }\n",
              "\n",
              "    [theme=dark] .colab-df-convert {\n",
              "      background-color: #3B4455;\n",
              "      fill: #D2E3FC;\n",
              "    }\n",
              "\n",
              "    [theme=dark] .colab-df-convert:hover {\n",
              "      background-color: #434B5C;\n",
              "      box-shadow: 0px 1px 3px 1px rgba(0, 0, 0, 0.15);\n",
              "      filter: drop-shadow(0px 1px 2px rgba(0, 0, 0, 0.3));\n",
              "      fill: #FFFFFF;\n",
              "    }\n",
              "  </style>\n",
              "\n",
              "    <script>\n",
              "      const buttonEl =\n",
              "        document.querySelector('#df-e8110827-39a0-481e-bd18-10d3fe29b9b9 button.colab-df-convert');\n",
              "      buttonEl.style.display =\n",
              "        google.colab.kernel.accessAllowed ? 'block' : 'none';\n",
              "\n",
              "      async function convertToInteractive(key) {\n",
              "        const element = document.querySelector('#df-e8110827-39a0-481e-bd18-10d3fe29b9b9');\n",
              "        const dataTable =\n",
              "          await google.colab.kernel.invokeFunction('convertToInteractive',\n",
              "                                                    [key], {});\n",
              "        if (!dataTable) return;\n",
              "\n",
              "        const docLinkHtml = 'Like what you see? Visit the ' +\n",
              "          '<a target=\"_blank\" href=https://colab.research.google.com/notebooks/data_table.ipynb>data table notebook</a>'\n",
              "          + ' to learn more about interactive tables.';\n",
              "        element.innerHTML = '';\n",
              "        dataTable['output_type'] = 'display_data';\n",
              "        await google.colab.output.renderOutput(dataTable, element);\n",
              "        const docLink = document.createElement('div');\n",
              "        docLink.innerHTML = docLinkHtml;\n",
              "        element.appendChild(docLink);\n",
              "      }\n",
              "    </script>\n",
              "  </div>\n",
              "\n",
              "\n",
              "<div id=\"df-d802e183-8b92-485d-a001-6244834c8a59\">\n",
              "  <button class=\"colab-df-quickchart\" onclick=\"quickchart('df-d802e183-8b92-485d-a001-6244834c8a59')\"\n",
              "            title=\"Suggest charts\"\n",
              "            style=\"display:none;\">\n",
              "\n",
              "<svg xmlns=\"http://www.w3.org/2000/svg\" height=\"24px\"viewBox=\"0 0 24 24\"\n",
              "     width=\"24px\">\n",
              "    <g>\n",
              "        <path d=\"M19 3H5c-1.1 0-2 .9-2 2v14c0 1.1.9 2 2 2h14c1.1 0 2-.9 2-2V5c0-1.1-.9-2-2-2zM9 17H7v-7h2v7zm4 0h-2V7h2v10zm4 0h-2v-4h2v4z\"/>\n",
              "    </g>\n",
              "</svg>\n",
              "  </button>\n",
              "\n",
              "<style>\n",
              "  .colab-df-quickchart {\n",
              "      --bg-color: #E8F0FE;\n",
              "      --fill-color: #1967D2;\n",
              "      --hover-bg-color: #E2EBFA;\n",
              "      --hover-fill-color: #174EA6;\n",
              "      --disabled-fill-color: #AAA;\n",
              "      --disabled-bg-color: #DDD;\n",
              "  }\n",
              "\n",
              "  [theme=dark] .colab-df-quickchart {\n",
              "      --bg-color: #3B4455;\n",
              "      --fill-color: #D2E3FC;\n",
              "      --hover-bg-color: #434B5C;\n",
              "      --hover-fill-color: #FFFFFF;\n",
              "      --disabled-bg-color: #3B4455;\n",
              "      --disabled-fill-color: #666;\n",
              "  }\n",
              "\n",
              "  .colab-df-quickchart {\n",
              "    background-color: var(--bg-color);\n",
              "    border: none;\n",
              "    border-radius: 50%;\n",
              "    cursor: pointer;\n",
              "    display: none;\n",
              "    fill: var(--fill-color);\n",
              "    height: 32px;\n",
              "    padding: 0;\n",
              "    width: 32px;\n",
              "  }\n",
              "\n",
              "  .colab-df-quickchart:hover {\n",
              "    background-color: var(--hover-bg-color);\n",
              "    box-shadow: 0 1px 2px rgba(60, 64, 67, 0.3), 0 1px 3px 1px rgba(60, 64, 67, 0.15);\n",
              "    fill: var(--button-hover-fill-color);\n",
              "  }\n",
              "\n",
              "  .colab-df-quickchart-complete:disabled,\n",
              "  .colab-df-quickchart-complete:disabled:hover {\n",
              "    background-color: var(--disabled-bg-color);\n",
              "    fill: var(--disabled-fill-color);\n",
              "    box-shadow: none;\n",
              "  }\n",
              "\n",
              "  .colab-df-spinner {\n",
              "    border: 2px solid var(--fill-color);\n",
              "    border-color: transparent;\n",
              "    border-bottom-color: var(--fill-color);\n",
              "    animation:\n",
              "      spin 1s steps(1) infinite;\n",
              "  }\n",
              "\n",
              "  @keyframes spin {\n",
              "    0% {\n",
              "      border-color: transparent;\n",
              "      border-bottom-color: var(--fill-color);\n",
              "      border-left-color: var(--fill-color);\n",
              "    }\n",
              "    20% {\n",
              "      border-color: transparent;\n",
              "      border-left-color: var(--fill-color);\n",
              "      border-top-color: var(--fill-color);\n",
              "    }\n",
              "    30% {\n",
              "      border-color: transparent;\n",
              "      border-left-color: var(--fill-color);\n",
              "      border-top-color: var(--fill-color);\n",
              "      border-right-color: var(--fill-color);\n",
              "    }\n",
              "    40% {\n",
              "      border-color: transparent;\n",
              "      border-right-color: var(--fill-color);\n",
              "      border-top-color: var(--fill-color);\n",
              "    }\n",
              "    60% {\n",
              "      border-color: transparent;\n",
              "      border-right-color: var(--fill-color);\n",
              "    }\n",
              "    80% {\n",
              "      border-color: transparent;\n",
              "      border-right-color: var(--fill-color);\n",
              "      border-bottom-color: var(--fill-color);\n",
              "    }\n",
              "    90% {\n",
              "      border-color: transparent;\n",
              "      border-bottom-color: var(--fill-color);\n",
              "    }\n",
              "  }\n",
              "</style>\n",
              "\n",
              "  <script>\n",
              "    async function quickchart(key) {\n",
              "      const quickchartButtonEl =\n",
              "        document.querySelector('#' + key + ' button');\n",
              "      quickchartButtonEl.disabled = true;  // To prevent multiple clicks.\n",
              "      quickchartButtonEl.classList.add('colab-df-spinner');\n",
              "      try {\n",
              "        const charts = await google.colab.kernel.invokeFunction(\n",
              "            'suggestCharts', [key], {});\n",
              "      } catch (error) {\n",
              "        console.error('Error during call to suggestCharts:', error);\n",
              "      }\n",
              "      quickchartButtonEl.classList.remove('colab-df-spinner');\n",
              "      quickchartButtonEl.classList.add('colab-df-quickchart-complete');\n",
              "    }\n",
              "    (() => {\n",
              "      let quickchartButtonEl =\n",
              "        document.querySelector('#df-d802e183-8b92-485d-a001-6244834c8a59 button');\n",
              "      quickchartButtonEl.style.display =\n",
              "        google.colab.kernel.accessAllowed ? 'block' : 'none';\n",
              "    })();\n",
              "  </script>\n",
              "</div>\n",
              "\n",
              "    </div>\n",
              "  </div>\n"
            ],
            "application/vnd.google.colaboratory.intrinsic+json": {
              "type": "dataframe",
              "summary": "{\n  \"name\": \"df\",\n  \"rows\": 8,\n  \"fields\": [\n    {\n      \"column\": \"person_age\",\n      \"properties\": {\n        \"dtype\": \"number\",\n        \"std\": 11505.209452641495,\n        \"min\": 6.3480784192252475,\n        \"max\": 32581.0,\n        \"num_unique_values\": 8,\n        \"samples\": [\n          27.73459992019889,\n          26.0,\n          32581.0\n        ],\n        \"semantic_type\": \"\",\n        \"description\": \"\"\n      }\n    },\n    {\n      \"column\": \"person_income\",\n      \"properties\": {\n        \"dtype\": \"number\",\n        \"std\": 2104411.4228170463,\n        \"min\": 4000.0,\n        \"max\": 6000000.0,\n        \"num_unique_values\": 8,\n        \"samples\": [\n          66074.84846996715,\n          55000.0,\n          32581.0\n        ],\n        \"semantic_type\": \"\",\n        \"description\": \"\"\n      }\n    },\n    {\n      \"column\": \"person_emp_length\",\n      \"properties\": {\n        \"dtype\": \"number\",\n        \"std\": 11195.450623137132,\n        \"min\": 0.0,\n        \"max\": 31686.0,\n        \"num_unique_values\": 8,\n        \"samples\": [\n          4.789686296787225,\n          4.0,\n          31686.0\n        ],\n        \"semantic_type\": \"\",\n        \"description\": \"\"\n      }\n    },\n    {\n      \"column\": \"loan_amnt\",\n      \"properties\": {\n        \"dtype\": \"number\",\n        \"std\": 12907.153470802921,\n        \"min\": 500.0,\n        \"max\": 35000.0,\n        \"num_unique_values\": 8,\n        \"samples\": [\n          9589.371105859243,\n          8000.0,\n          32581.0\n        ],\n        \"semantic_type\": \"\",\n        \"description\": \"\"\n      }\n    },\n    {\n      \"column\": \"loan_int_rate\",\n      \"properties\": {\n        \"dtype\": \"number\",\n        \"std\": 10413.651601664355,\n        \"min\": 3.2404594649559195,\n        \"max\": 29465.0,\n        \"num_unique_values\": 8,\n        \"samples\": [\n          11.011694892245036,\n          10.99,\n          29465.0\n        ],\n        \"semantic_type\": \"\",\n        \"description\": \"\"\n      }\n    },\n    {\n      \"column\": \"loan_status\",\n      \"properties\": {\n        \"dtype\": \"number\",\n        \"std\": 11519.04063760866,\n        \"min\": 0.0,\n        \"max\": 32581.0,\n        \"num_unique_values\": 5,\n        \"samples\": [\n          0.21816396059052823,\n          1.0,\n          0.4130056685601785\n        ],\n        \"semantic_type\": \"\",\n        \"description\": \"\"\n      }\n    },\n    {\n      \"column\": \"loan_percent_income\",\n      \"properties\": {\n        \"dtype\": \"number\",\n        \"std\": 11519.043371973277,\n        \"min\": 0.0,\n        \"max\": 32581.0,\n        \"num_unique_values\": 8,\n        \"samples\": [\n          0.1702034928332464,\n          0.15,\n          32581.0\n        ],\n        \"semantic_type\": \"\",\n        \"description\": \"\"\n      }\n    },\n    {\n      \"column\": \"cb_person_cred_hist_length\",\n      \"properties\": {\n        \"dtype\": \"number\",\n        \"std\": 11516.254800358192,\n        \"min\": 2.0,\n        \"max\": 32581.0,\n        \"num_unique_values\": 8,\n        \"samples\": [\n          5.804211043246064,\n          4.0,\n          32581.0\n        ],\n        \"semantic_type\": \"\",\n        \"description\": \"\"\n      }\n    }\n  ]\n}"
            }
          },
          "metadata": {},
          "execution_count": 6
        }
      ]
    },
    {
      "cell_type": "code",
      "source": [
        "print('Number of entries: ', df.shape[0])\n",
        "print('Number of attributes: ',df.shape[1])"
      ],
      "metadata": {
        "colab": {
          "base_uri": "https://localhost:8080/"
        },
        "id": "czol2iGIsjcu",
        "outputId": "e7d46e09-3e67-4bba-b740-c2c283125457"
      },
      "execution_count": 7,
      "outputs": [
        {
          "output_type": "stream",
          "name": "stdout",
          "text": [
            "Number of entries:  32581\n",
            "Number of attributes:  12\n"
          ]
        }
      ]
    },
    {
      "cell_type": "markdown",
      "source": [
        "Selects the features (X) and target (Y) for the prediction task. The target variable loan_status is visualized to check class balance, helping to determine if additional preprocessing is needed."
      ],
      "metadata": {
        "id": "XDpCOcEC4aek"
      }
    },
    {
      "cell_type": "code",
      "source": [
        "X = df.drop(['loan_status'], axis=1)\n",
        "Y = df['loan_status']\n",
        "sp_type_counts = Y.value_counts()\n",
        "print(f'{X.shape[1]} features and 1 target column:\\n{X.columns}')\n",
        "sp_type_counts.plot.bar()"
      ],
      "metadata": {
        "colab": {
          "base_uri": "https://localhost:8080/",
          "height": 566
        },
        "id": "0Emlf-8VtDKG",
        "outputId": "88f3cf89-8c7f-400c-af1f-eb6e3865250b"
      },
      "execution_count": 8,
      "outputs": [
        {
          "output_type": "stream",
          "name": "stdout",
          "text": [
            "11 features and 1 target column:\n",
            "Index(['person_age', 'person_income', 'person_home_ownership',\n",
            "       'person_emp_length', 'loan_intent', 'loan_grade', 'loan_amnt',\n",
            "       'loan_int_rate', 'loan_percent_income', 'cb_person_default_on_file',\n",
            "       'cb_person_cred_hist_length'],\n",
            "      dtype='object')\n"
          ]
        },
        {
          "output_type": "execute_result",
          "data": {
            "text/plain": [
              "<Axes: xlabel='loan_status'>"
            ]
          },
          "metadata": {},
          "execution_count": 8
        },
        {
          "output_type": "display_data",
          "data": {
            "text/plain": [
              "<Figure size 640x480 with 1 Axes>"
            ],
            "image/png": "[encoded data removed]"
          },
          "metadata": {}
        }
      ]
    },
    {
      "cell_type": "markdown",
      "source": [
        "Calculates and visualizes the correlation matrix for numerical features in the dataset. The correlation matrix helps identify relationships between features, which is critical for feature selection and understanding multicollinearity in the dataset.\n",
        "\n"
      ],
      "metadata": {
        "id": "Q5stEJZJ4iRJ"
      }
    },
    {
      "cell_type": "code",
      "source": [
        "corr_matrix = X.select_dtypes(include=[np.number]).corr()\n",
        "\n",
        "plt.figure(figsize=(14, 12))\n",
        "sns.heatmap(corr_matrix, annot=True, cmap='coolwarm', fmt=\".2f\", linewidths =.5)\n",
        "plt.xticks(rotation=45, ha=\"right\")\n",
        "plt.yticks(rotation=0)\n",
        "plt.title('Correlation Matrix')\n",
        "plt.show()"
      ],
      "metadata": {
        "colab": {
          "base_uri": "https://localhost:8080/",
          "height": 1000
        },
        "id": "2DDYQqmTt9mC",
        "outputId": "849490bb-4046-40ad-aa3b-29c56fc6327c"
      },
      "execution_count": 9,
      "outputs": [
        {
          "output_type": "display_data",
          "data": {
            "text/plain": [
              "<Figure size 1400x1200 with 2 Axes>"
            ],
            "image/png": "[encoded data removed]"
          },
          "metadata": {}
        }
      ]
    },
    {
      "cell_type": "markdown",
      "source": [
        "Provides a summary of missing values in the dataset, helping identify fields with incomplete data. By calculating the number and percentage of missing values for each feature, it supports informed decisions about data cleaning and imputation."
      ],
      "metadata": {
        "id": "PRC7hIbM4oZQ"
      }
    },
    {
      "cell_type": "code",
      "source": [
        "def summary_missing(data):\n",
        "  n_miss = data.isnull().sum()\n",
        "  n_obs = data.shape[0]\n",
        "  n_miss_per = n_miss/n_obs*100\n",
        "  n_miss_table = pd.concat([n_miss, n_miss_per], axis=1).sort_values(1, ascending=False).round(2)\n",
        "  n_miss_table = n_miss_table[n_miss_table[1] != 0]\n",
        "  print('No fields: ', data.shape[0])\n",
        "  print('No missing fields: ', n_miss_table.shape[0])\n",
        "  n_miss_table = n_miss_table.rename(columns={0:'Missing Values', 1:'% of Total Values'})\n",
        "  return n_miss_table\n",
        "summary_missing(df)\n"
      ],
      "metadata": {
        "colab": {
          "base_uri": "https://localhost:8080/",
          "height": 147
        },
        "id": "jBwYV4CowHTA",
        "outputId": "de51ae95-7317-4b37-a576-e259d0baf9da"
      },
      "execution_count": 10,
      "outputs": [
        {
          "output_type": "stream",
          "name": "stdout",
          "text": [
            "No fields:  32581\n",
            "No missing fields:  2\n"
          ]
        },
        {
          "output_type": "execute_result",
          "data": {
            "text/plain": [
              "                   Missing Values  % of Total Values\n",
              "loan_int_rate                3116               9.56\n",
              "person_emp_length             895               2.75"
            ],
            "text/html": [
              "\n",
              "  <div id=\"df-38eabded-e9a1-4985-ad58-7d1576df7745\" class=\"colab-df-container\">\n",
              "    <div>\n",
              "<style scoped>\n",
              "    .dataframe tbody tr th:only-of-type {\n",
              "        vertical-align: middle;\n",
              "    }\n",
              "\n",
              "    .dataframe tbody tr th {\n",
              "        vertical-align: top;\n",
              "    }\n",
              "\n",
              "    .dataframe thead th {\n",
              "        text-align: right;\n",
              "    }\n",
              "</style>\n",
              "<table border=\"1\" class=\"dataframe\">\n",
              "  <thead>\n",
              "    <tr style=\"text-align: right;\">\n",
              "      <th></th>\n",
              "      <th>Missing Values</th>\n",
              "      <th>% of Total Values</th>\n",
              "    </tr>\n",
              "  </thead>\n",
              "  <tbody>\n",
              "    <tr>\n",
              "      <th>loan_int_rate</th>\n",
              "      <td>3116</td>\n",
              "      <td>9.56</td>\n",
              "    </tr>\n",
              "    <tr>\n",
              "      <th>person_emp_length</th>\n",
              "      <td>895</td>\n",
              "      <td>2.75</td>\n",
              "    </tr>\n",
              "  </tbody>\n",
              "</table>\n",
              "</div>\n",
              "    <div class=\"colab-df-buttons\">\n",
              "\n",
              "  <div class=\"colab-df-container\">\n",
              "    <button class=\"colab-df-convert\" onclick=\"convertToInteractive('df-38eabded-e9a1-4985-ad58-7d1576df7745')\"\n",
              "            title=\"Convert this dataframe to an interactive table.\"\n",
              "            style=\"display:none;\">\n",
              "\n",
              "  <svg xmlns=\"http://www.w3.org/2000/svg\" height=\"24px\" viewBox=\"0 -960 960 960\">\n",
              "    <path d=\"M120-120v-720h720v720H120Zm60-500h600v-160H180v160Zm220 220h160v-160H400v160Zm0 220h160v-160H400v160ZM180-400h160v-160H180v160Zm440 0h160v-160H620v160ZM180-180h160v-160H180v160Zm440 0h160v-160H620v160Z\"/>\n",
              "  </svg>\n",
              "    </button>\n",
              "\n",
              "  <style>\n",
              "    .colab-df-container {\n",
              "      display:flex;\n",
              "      gap: 12px;\n",
              "    }\n",
              "\n",
              "    .colab-df-convert {\n",
              "      background-color: #E8F0FE;\n",
              "      border: none;\n",
              "      border-radius: 50%;\n",
              "      cursor: pointer;\n",
              "      display: none;\n",
              "      fill: #1967D2;\n",
              "      height: 32px;\n",
              "      padding: 0 0 0 0;\n",
              "      width: 32px;\n",
              "    }\n",
              "\n",
              "    .colab-df-convert:hover {\n",
              "      background-color: #E2EBFA;\n",
              "      box-shadow: 0px 1px 2px rgba(60, 64, 67, 0.3), 0px 1px 3px 1px rgba(60, 64, 67, 0.15);\n",
              "      fill: #174EA6;\n",
              "    }\n",
              "\n",
              "    .colab-df-buttons div {\n",
              "      margin-bottom: 4px;\n",
              "    }\n",
              "\n",
              "    [theme=dark] .colab-df-convert {\n",
              "      background-color: #3B4455;\n",
              "      fill: #D2E3FC;\n",
              "    }\n",
              "\n",
              "    [theme=dark] .colab-df-convert:hover {\n",
              "      background-color: #434B5C;\n",
              "      box-shadow: 0px 1px 3px 1px rgba(0, 0, 0, 0.15);\n",
              "      filter: drop-shadow(0px 1px 2px rgba(0, 0, 0, 0.3));\n",
              "      fill: #FFFFFF;\n",
              "    }\n",
              "  </style>\n",
              "\n",
              "    <script>\n",
              "      const buttonEl =\n",
              "        document.querySelector('#df-38eabded-e9a1-4985-ad58-7d1576df7745 button.colab-df-convert');\n",
              "      buttonEl.style.display =\n",
              "        google.colab.kernel.accessAllowed ? 'block' : 'none';\n",
              "\n",
              "      async function convertToInteractive(key) {\n",
              "        const element = document.querySelector('#df-38eabded-e9a1-4985-ad58-7d1576df7745');\n",
              "        const dataTable =\n",
              "          await google.colab.kernel.invokeFunction('convertToInteractive',\n",
              "                                                    [key], {});\n",
              "        if (!dataTable) return;\n",
              "\n",
              "        const docLinkHtml = 'Like what you see? Visit the ' +\n",
              "          '<a target=\"_blank\" href=https://colab.research.google.com/notebooks/data_table.ipynb>data table notebook</a>'\n",
              "          + ' to learn more about interactive tables.';\n",
              "        element.innerHTML = '';\n",
              "        dataTable['output_type'] = 'display_data';\n",
              "        await google.colab.output.renderOutput(dataTable, element);\n",
              "        const docLink = document.createElement('div');\n",
              "        docLink.innerHTML = docLinkHtml;\n",
              "        element.appendChild(docLink);\n",
              "      }\n",
              "    </script>\n",
              "  </div>\n",
              "\n",
              "\n",
              "<div id=\"df-bff33c39-d940-47c6-80c4-0b0ced23f48e\">\n",
              "  <button class=\"colab-df-quickchart\" onclick=\"quickchart('df-bff33c39-d940-47c6-80c4-0b0ced23f48e')\"\n",
              "            title=\"Suggest charts\"\n",
              "            style=\"display:none;\">\n",
              "\n",
              "<svg xmlns=\"http://www.w3.org/2000/svg\" height=\"24px\"viewBox=\"0 0 24 24\"\n",
              "     width=\"24px\">\n",
              "    <g>\n",
              "        <path d=\"M19 3H5c-1.1 0-2 .9-2 2v14c0 1.1.9 2 2 2h14c1.1 0 2-.9 2-2V5c0-1.1-.9-2-2-2zM9 17H7v-7h2v7zm4 0h-2V7h2v10zm4 0h-2v-4h2v4z\"/>\n",
              "    </g>\n",
              "</svg>\n",
              "  </button>\n",
              "\n",
              "<style>\n",
              "  .colab-df-quickchart {\n",
              "      --bg-color: #E8F0FE;\n",
              "      --fill-color: #1967D2;\n",
              "      --hover-bg-color: #E2EBFA;\n",
              "      --hover-fill-color: #174EA6;\n",
              "      --disabled-fill-color: #AAA;\n",
              "      --disabled-bg-color: #DDD;\n",
              "  }\n",
              "\n",
              "  [theme=dark] .colab-df-quickchart {\n",
              "      --bg-color: #3B4455;\n",
              "      --fill-color: #D2E3FC;\n",
              "      --hover-bg-color: #434B5C;\n",
              "      --hover-fill-color: #FFFFFF;\n",
              "      --disabled-bg-color: #3B4455;\n",
              "      --disabled-fill-color: #666;\n",
              "  }\n",
              "\n",
              "  .colab-df-quickchart {\n",
              "    background-color: var(--bg-color);\n",
              "    border: none;\n",
              "    border-radius: 50%;\n",
              "    cursor: pointer;\n",
              "    display: none;\n",
              "    fill: var(--fill-color);\n",
              "    height: 32px;\n",
              "    padding: 0;\n",
              "    width: 32px;\n",
              "  }\n",
              "\n",
              "  .colab-df-quickchart:hover {\n",
              "    background-color: var(--hover-bg-color);\n",
              "    box-shadow: 0 1px 2px rgba(60, 64, 67, 0.3), 0 1px 3px 1px rgba(60, 64, 67, 0.15);\n",
              "    fill: var(--button-hover-fill-color);\n",
              "  }\n",
              "\n",
              "  .colab-df-quickchart-complete:disabled,\n",
              "  .colab-df-quickchart-complete:disabled:hover {\n",
              "    background-color: var(--disabled-bg-color);\n",
              "    fill: var(--disabled-fill-color);\n",
              "    box-shadow: none;\n",
              "  }\n",
              "\n",
              "  .colab-df-spinner {\n",
              "    border: 2px solid var(--fill-color);\n",
              "    border-color: transparent;\n",
              "    border-bottom-color: var(--fill-color);\n",
              "    animation:\n",
              "      spin 1s steps(1) infinite;\n",
              "  }\n",
              "\n",
              "  @keyframes spin {\n",
              "    0% {\n",
              "      border-color: transparent;\n",
              "      border-bottom-color: var(--fill-color);\n",
              "      border-left-color: var(--fill-color);\n",
              "    }\n",
              "    20% {\n",
              "      border-color: transparent;\n",
              "      border-left-color: var(--fill-color);\n",
              "      border-top-color: var(--fill-color);\n",
              "    }\n",
              "    30% {\n",
              "      border-color: transparent;\n",
              "      border-left-color: var(--fill-color);\n",
              "      border-top-color: var(--fill-color);\n",
              "      border-right-color: var(--fill-color);\n",
              "    }\n",
              "    40% {\n",
              "      border-color: transparent;\n",
              "      border-right-color: var(--fill-color);\n",
              "      border-top-color: var(--fill-color);\n",
              "    }\n",
              "    60% {\n",
              "      border-color: transparent;\n",
              "      border-right-color: var(--fill-color);\n",
              "    }\n",
              "    80% {\n",
              "      border-color: transparent;\n",
              "      border-right-color: var(--fill-color);\n",
              "      border-bottom-color: var(--fill-color);\n",
              "    }\n",
              "    90% {\n",
              "      border-color: transparent;\n",
              "      border-bottom-color: var(--fill-color);\n",
              "    }\n",
              "  }\n",
              "</style>\n",
              "\n",
              "  <script>\n",
              "    async function quickchart(key) {\n",
              "      const quickchartButtonEl =\n",
              "        document.querySelector('#' + key + ' button');\n",
              "      quickchartButtonEl.disabled = true;  // To prevent multiple clicks.\n",
              "      quickchartButtonEl.classList.add('colab-df-spinner');\n",
              "      try {\n",
              "        const charts = await google.colab.kernel.invokeFunction(\n",
              "            'suggestCharts', [key], {});\n",
              "      } catch (error) {\n",
              "        console.error('Error during call to suggestCharts:', error);\n",
              "      }\n",
              "      quickchartButtonEl.classList.remove('colab-df-spinner');\n",
              "      quickchartButtonEl.classList.add('colab-df-quickchart-complete');\n",
              "    }\n",
              "    (() => {\n",
              "      let quickchartButtonEl =\n",
              "        document.querySelector('#df-bff33c39-d940-47c6-80c4-0b0ced23f48e button');\n",
              "      quickchartButtonEl.style.display =\n",
              "        google.colab.kernel.accessAllowed ? 'block' : 'none';\n",
              "    })();\n",
              "  </script>\n",
              "</div>\n",
              "\n",
              "    </div>\n",
              "  </div>\n"
            ],
            "application/vnd.google.colaboratory.intrinsic+json": {
              "type": "dataframe",
              "summary": "{\n  \"name\": \"summary_missing(df)\",\n  \"rows\": 2,\n  \"fields\": [\n    {\n      \"column\": \"Missing Values\",\n      \"properties\": {\n        \"dtype\": \"number\",\n        \"std\": 1570,\n        \"min\": 895,\n        \"max\": 3116,\n        \"num_unique_values\": 2,\n        \"samples\": [\n          895,\n          3116\n        ],\n        \"semantic_type\": \"\",\n        \"description\": \"\"\n      }\n    },\n    {\n      \"column\": \"% of Total Values\",\n      \"properties\": {\n        \"dtype\": \"number\",\n        \"std\": 4.815397179880389,\n        \"min\": 2.75,\n        \"max\": 9.56,\n        \"num_unique_values\": 2,\n        \"samples\": [\n          2.75,\n          9.56\n        ],\n        \"semantic_type\": \"\",\n        \"description\": \"\"\n      }\n    }\n  ]\n}"
            }
          },
          "metadata": {},
          "execution_count": 10
        }
      ]
    },
    {
      "cell_type": "code",
      "source": [
        "numerical_columns = [i for i in X.columns if X[i].dtype!='O']\n",
        "\n",
        "print('There are {} numerical_columns variables\\n'.format(len(numerical_columns)))\n",
        "\n",
        "print('The numerical_columns variables are :', numerical_columns)"
      ],
      "metadata": {
        "colab": {
          "base_uri": "https://localhost:8080/"
        },
        "id": "s32-TX2PGPl8",
        "outputId": "32b1e0a1-299e-4607-a973-c0724de2be4a"
      },
      "execution_count": 11,
      "outputs": [
        {
          "output_type": "stream",
          "name": "stdout",
          "text": [
            "There are 7 numerical_columns variables\n",
            "\n",
            "The numerical_columns variables are : ['person_age', 'person_income', 'person_emp_length', 'loan_amnt', 'loan_int_rate', 'loan_percent_income', 'cb_person_cred_hist_length']\n"
          ]
        }
      ]
    },
    {
      "cell_type": "code",
      "source": [
        "# List of categorical_columns columns to impute with mode\n",
        "# find categorical_columns variables\n",
        "\n",
        "categorical_columns = [i for i in X.columns if X[i].dtype=='O']\n",
        "\n",
        "print('There are {} categorical_columns variables\\n'.format(len(categorical_columns)))\n",
        "\n",
        "print('The categorical_columns variables are :', categorical_columns)\n",
        "\n"
      ],
      "metadata": {
        "colab": {
          "base_uri": "https://localhost:8080/"
        },
        "id": "xTHcKhDZGAqq",
        "outputId": "e6bda897-a401-4f7f-dd19-e60308549933"
      },
      "execution_count": 12,
      "outputs": [
        {
          "output_type": "stream",
          "name": "stdout",
          "text": [
            "There are 4 categorical_columns variables\n",
            "\n",
            "The categorical_columns variables are : ['person_home_ownership', 'loan_intent', 'loan_grade', 'cb_person_default_on_file']\n"
          ]
        }
      ]
    },
    {
      "cell_type": "markdown",
      "source": [
        "## Data Preprocessing"
      ],
      "metadata": {
        "id": "eH6q8WsTFCrX"
      }
    },
    {
      "cell_type": "markdown",
      "source": [
        "### Handling missing values"
      ],
      "metadata": {
        "id": "TuC-5pVaURrN"
      }
    },
    {
      "cell_type": "code",
      "source": [
        "#Filling missing values for categorical attributes\n",
        "for i in categorical_columns:\n",
        "    X[i] = X[i].fillna(X[i].mode()[0])"
      ],
      "metadata": {
        "id": "GULi-xhXhUdB"
      },
      "execution_count": 13,
      "outputs": []
    },
    {
      "cell_type": "markdown",
      "source": [
        "Apply K-Nearest Neighbors Imputation (KNNImputer) to handle missing values in numerical features. KNNImputer replaces missing values by averaging the values of the k-nearest neighbors, providing a robust and data-driven method for imputation.\n",
        "\n"
      ],
      "metadata": {
        "id": "EXbC9HhS4wqf"
      }
    },
    {
      "cell_type": "code",
      "source": [
        "from sklearn.impute import KNNImputer\n",
        "\n",
        "# Set up the KNNImputer\n",
        "knn_imputer = KNNImputer(n_neighbors=5)  # You can adjust 'n_neighbors' as needed\n",
        "\n",
        "# Impute only numerical_columns in X using KNNImputer\n",
        "X[numerical_columns] = knn_imputer.fit_transform(X[numerical_columns])\n",
        "\n",
        "# Check for any remaining missing values in X\n",
        "print(\"Missing values in X after imputation:\", X.isnull().sum().sum())\n"
      ],
      "metadata": {
        "colab": {
          "base_uri": "https://localhost:8080/"
        },
        "id": "froR4xyPILht",
        "outputId": "7d8af5f0-734e-4687-dd17-0051b4ea80fc"
      },
      "execution_count": 14,
      "outputs": [
        {
          "output_type": "stream",
          "name": "stdout",
          "text": [
            "Missing values in X after imputation: 0\n"
          ]
        }
      ]
    },
    {
      "cell_type": "markdown",
      "source": [
        "### Handling outliers"
      ],
      "metadata": {
        "id": "SjCSN8SoUa6A"
      }
    },
    {
      "cell_type": "markdown",
      "source": [
        "Use the Interquartile Range (IQR) method to cap outliers in numerical columns. Outliers are replaced with the upper or lower bounds, ensuring the data remains within a reasonable range without being distorted by extreme values."
      ],
      "metadata": {
        "id": "2N4bEGtM41qE"
      }
    },
    {
      "cell_type": "code",
      "source": [
        "for col in numerical_columns:\n",
        "    Q1 = X[col].quantile(0.25)\n",
        "    Q3 = X[col].quantile(0.75)\n",
        "    IQR = Q3 - Q1\n",
        "    lower_bound = Q1 - 1.5 * IQR\n",
        "    upper_bound = Q3 + 1.5 * IQR\n",
        "    X[col] = np.where(X[col] > upper_bound, upper_bound, np.where(X[col] < lower_bound, lower_bound, X[col]))"
      ],
      "metadata": {
        "id": "MnF25pHaMZIg"
      },
      "execution_count": 15,
      "outputs": []
    },
    {
      "cell_type": "markdown",
      "source": [
        "### Scaling"
      ],
      "metadata": {
        "id": "xUbmjh7pUfAv"
      }
    },
    {
      "cell_type": "markdown",
      "source": [
        "Standardizes numerical features using StandardScaler, ensuring all numerical columns have a mean of 0 and a standard deviation of 1. This step is essential for machine learning models sensitive to feature magnitudes, such as distance-based algorithms and gradient descent-based optimization."
      ],
      "metadata": {
        "id": "Drx-snKq47VT"
      }
    },
    {
      "cell_type": "code",
      "source": [
        "# Scaling the numerical data\n",
        "from sklearn.preprocessing import StandardScaler\n",
        "scaler = StandardScaler()\n",
        "X[numerical_columns] = scaler.fit_transform(X[numerical_columns])"
      ],
      "metadata": {
        "id": "n2PnqRuAM3Iv"
      },
      "execution_count": 16,
      "outputs": []
    },
    {
      "cell_type": "markdown",
      "source": [
        "## Encoding"
      ],
      "metadata": {
        "id": "OLvZ-ZV04UB1"
      }
    },
    {
      "cell_type": "markdown",
      "source": [
        "Apply One-Hot Encoding to transform categorical features into numerical representations, which are essential for machine learning algorithms that cannot process non-numeric data. By creating binary indicator variables for each category, the dataset becomes model-ready."
      ],
      "metadata": {
        "id": "BRhOfwX35ADs"
      }
    },
    {
      "cell_type": "code",
      "source": [
        "from sklearn.preprocessing import OneHotEncoder\n",
        "\n",
        "# Initialize the OneHotEncoder\n",
        "one_hot_encoder = OneHotEncoder(sparse_output=False, drop='first')  # Set drop='first' for avoiding multicollinearity (optional)\n",
        "\n",
        "# Apply One-Hot Encoding\n",
        "encoded_features = one_hot_encoder.fit_transform(X[categorical_columns])\n",
        "\n",
        "# Convert encoded features to a DataFrame\n",
        "encoded_df = pd.DataFrame(encoded_features, columns=one_hot_encoder.get_feature_names_out(categorical_columns))\n",
        "\n",
        "# Drop original categorical columns from X and concatenate encoded columns\n",
        "X = X.drop(columns=categorical_columns).reset_index(drop=True)\n",
        "X = pd.concat([X, encoded_df], axis=1)\n",
        "\n",
        "# Verify the transformation\n",
        "print(X.head())\n"
      ],
      "metadata": {
        "id": "4xikiFLPJD19",
        "colab": {
          "base_uri": "https://localhost:8080/"
        },
        "outputId": "f7098ffa-520a-4c28-e340-b57f4a13e913"
      },
      "execution_count": 17,
      "outputs": [
        {
          "output_type": "stream",
          "name": "stdout",
          "text": [
            "   person_age  person_income  person_emp_length  loan_amnt  loan_int_rate  \\\n",
            "0   -1.032180      -0.107489           2.630257   2.338284       1.604548   \n",
            "1   -1.221898      -1.660471           0.084756  -1.446371       0.041149   \n",
            "2   -0.463029      -1.660471          -0.987034  -0.672237       0.595387   \n",
            "3   -0.842463       0.096850          -0.183191   2.338284       1.351457   \n",
            "4   -0.652746      -0.252099           0.888599   2.338284       1.043903   \n",
            "\n",
            "   loan_percent_income  cb_person_cred_hist_length  \\\n",
            "0             2.649408                   -0.729243   \n",
            "1            -0.672222                   -0.998756   \n",
            "2             2.649408                   -0.729243   \n",
            "3             2.649408                   -0.998756   \n",
            "4             2.649408                   -0.459730   \n",
            "\n",
            "   person_home_ownership_OTHER  person_home_ownership_OWN  \\\n",
            "0                          0.0                        0.0   \n",
            "1                          0.0                        1.0   \n",
            "2                          0.0                        0.0   \n",
            "3                          0.0                        0.0   \n",
            "4                          0.0                        0.0   \n",
            "\n",
            "   person_home_ownership_RENT  ...  loan_intent_MEDICAL  loan_intent_PERSONAL  \\\n",
            "0                         1.0  ...                  0.0                   1.0   \n",
            "1                         0.0  ...                  0.0                   0.0   \n",
            "2                         0.0  ...                  1.0                   0.0   \n",
            "3                         1.0  ...                  1.0                   0.0   \n",
            "4                         1.0  ...                  1.0                   0.0   \n",
            "\n",
            "   loan_intent_VENTURE  loan_grade_B  loan_grade_C  loan_grade_D  \\\n",
            "0                  0.0           0.0           0.0           1.0   \n",
            "1                  0.0           1.0           0.0           0.0   \n",
            "2                  0.0           0.0           1.0           0.0   \n",
            "3                  0.0           0.0           1.0           0.0   \n",
            "4                  0.0           0.0           1.0           0.0   \n",
            "\n",
            "   loan_grade_E  loan_grade_F  loan_grade_G  cb_person_default_on_file_Y  \n",
            "0           0.0           0.0           0.0                          1.0  \n",
            "1           0.0           0.0           0.0                          0.0  \n",
            "2           0.0           0.0           0.0                          0.0  \n",
            "3           0.0           0.0           0.0                          0.0  \n",
            "4           0.0           0.0           0.0                          1.0  \n",
            "\n",
            "[5 rows x 22 columns]\n"
          ]
        }
      ]
    },
    {
      "cell_type": "markdown",
      "source": [
        "### Data splitting"
      ],
      "metadata": {
        "id": "g3kAb69CUjW3"
      }
    },
    {
      "cell_type": "markdown",
      "source": [
        "Split the dataset into training and testing subsets using train_test_split, ensuring the model is trained on 80% of the data and tested on the remaining 20%. The stratify parameter preserves the class distribution, which is crucial for imbalanced datasets like loan approval prediction."
      ],
      "metadata": {
        "id": "EvUzhzbl5GTY"
      }
    },
    {
      "cell_type": "code",
      "source": [
        "X_train, X_test, y_train, y_test = train_test_split(X, Y, test_size=0.2, random_state=42, stratify=Y)\n",
        "\n",
        "# Display the sizes of each split\n",
        "split_summary = {\n",
        "    \"Dataset\": [\"X_train\", \"X_test\", \"y_train\", \"y_test\"],\n",
        "    \"Size\": [X_train.shape, X_test.shape, y_train.shape, y_test.shape],\n",
        "    \"Proportion\": [\"80%\", \"20%\", \"80%\", \"20%\"]\n",
        "}\n",
        "\n",
        "split_summary_df = pd.DataFrame(split_summary)\n",
        "print(split_summary_df)"
      ],
      "metadata": {
        "id": "HI6ZJjGvhiwj",
        "colab": {
          "base_uri": "https://localhost:8080/"
        },
        "outputId": "52b97714-6d91-4d36-e312-b371d50081c7"
      },
      "execution_count": 18,
      "outputs": [
        {
          "output_type": "stream",
          "name": "stdout",
          "text": [
            "   Dataset         Size Proportion\n",
            "0  X_train  (26064, 22)        80%\n",
            "1   X_test   (6517, 22)        20%\n",
            "2  y_train     (26064,)        80%\n",
            "3   y_test      (6517,)        20%\n"
          ]
        }
      ]
    },
    {
      "cell_type": "code",
      "source": [
        "futureSample_X = X_test[-2:]\n",
        "futureSample_y = y_test[-2:]\n",
        "\n",
        "X_test = X_test[:-2]\n",
        "y_test = y_test[:-2]"
      ],
      "metadata": {
        "id": "MKZ1He3FhqbW"
      },
      "execution_count": 19,
      "outputs": []
    },
    {
      "cell_type": "markdown",
      "source": [
        "## Dealing with Imbalanced Data"
      ],
      "metadata": {
        "id": "Xm6BtOVOU3r-"
      }
    },
    {
      "cell_type": "markdown",
      "source": [
        "Apply Synthetic Minority Oversampling Technique (SMOTE) to the training data, generating synthetic samples for the minority class to balance the dataset. Balancing classes is crucial for improving the model's performance, especially in scenarios with imbalanced datasets like loan approval prediction.\n",
        "\n"
      ],
      "metadata": {
        "id": "ClRYyN965O_T"
      }
    },
    {
      "cell_type": "code",
      "source": [
        "from imblearn.over_sampling import SMOTE\n",
        "from sklearn.pipeline import make_pipeline\n",
        "\n",
        "# Apply SMOTE to the training data\n",
        "smote = SMOTE(random_state=42)\n",
        "\n",
        "# Transform the training data using SMOTE\n",
        "X_train, y_train = smote.fit_resample(X_train, y_train)\n",
        "\n",
        "# Check the new class distribution after SMOTE\n",
        "print(\"\\nClass Distribution After SMOTE:\")\n",
        "print(y_train.value_counts())\n"
      ],
      "metadata": {
        "colab": {
          "base_uri": "https://localhost:8080/"
        },
        "id": "AdzZhv_RU3Jh",
        "outputId": "eb2faa15-65ca-42d4-b750-28fd29ca09d2"
      },
      "execution_count": 20,
      "outputs": [
        {
          "output_type": "stream",
          "name": "stdout",
          "text": [
            "\n",
            "Class Distribution After SMOTE:\n",
            "loan_status\n",
            "0    20378\n",
            "1    20378\n",
            "Name: count, dtype: int64\n"
          ]
        }
      ]
    },
    {
      "cell_type": "markdown",
      "source": [
        "## Modelling"
      ],
      "metadata": {
        "id": "gcAfmMtHLez5"
      }
    },
    {
      "cell_type": "markdown",
      "source": [
        "# KNN"
      ],
      "metadata": {
        "id": "6mu2T_WtkSm1"
      }
    },
    {
      "cell_type": "markdown",
      "source": [
        "Implements a KNN (K-Nearest Neighbors) Classifier. KNN is a classification algorithm that predicts the class of a given test data point by looking at the classes of its K nearest neighbors and using a majority voting scheme.\n",
        "\n",
        "1. Code Explanation:\n",
        "\n",
        "  KNNClassifier Class: The class takes an optional parameter n_neighbors (default is 3), which defines how many neighbors to consider when making a prediction.\n",
        "\n",
        "2. `fit` Method: This method stores the training data (`X_train`) and corresponding labels (`y_train`). It prepares the model for making predictions based on this data.\n",
        "\n",
        "3. predict Method: This method is used to make predictions on the test data (`X_test`). It applies the `_predict_single` method to each test data point to generate the predictions.\n",
        "\n",
        "4. `_predict_single` Method: For a single data point, this method calculates the Euclidean distance between the test point and all training points. It then selects the K closest neighbors and performs majority voting to determine the most common class among the neighbors, which becomes the predicted class for that data point.\n",
        "\n",
        "\n",
        "The purpose of this code is to implement the KNN algorithm to predict the class of new data points based on their similarity to the training data. By adjusting the value of K, you can control the sensitivity of the model, and the accuracy generally improves as the dataset grows and becomes more diverse."
      ],
      "metadata": {
        "id": "1KpKVirll6SN"
      }
    },
    {
      "cell_type": "code",
      "source": [
        "import numpy as np\n",
        "from collections import Counter\n",
        "\n",
        "class KNNClassifier:\n",
        "    def __init__(self, n_neighbors=3):\n",
        "        self.n_neighbors = n_neighbors\n",
        "\n",
        "    def fit(self, X_train, y_train):\n",
        "        #Save training data and labels\n",
        "        self.X_train = np.array(X_train)\n",
        "        self.y_train = np.array(y_train)\n",
        "\n",
        "    def predict(self, X_test):\n",
        "        #Receive test data and return prediction results\n",
        "        X_test = np.array(X_test)\n",
        "        predictions = [self._predict_single(x) for x in X_test]\n",
        "        return np.array(predictions)\n",
        "\n",
        "    def _predict_single(self, x):\n",
        "        #Predict the class of a single data point\n",
        "        # Euclidean Distance Calculation\n",
        "        distances = [np.sqrt(np.sum((x - x_train) ** 2)) for x_train in self.X_train]\n",
        "        # Select the nearest k neighbors\n",
        "        k_indices = np.argsort(distances)[:self.n_neighbors]\n",
        "        k_nearest_labels = [self.y_train[i] for i in k_indices]\n",
        "        # Majority Voting\n",
        "        most_common = Counter(k_nearest_labels).most_common(1)\n",
        "        return most_common[0][0]\n",
        "\n",
        "# Model Training and Prediction\n",
        "model = KNNClassifier(n_neighbors=3)\n",
        "model.fit(X_train, y_train)"
      ],
      "metadata": {
        "id": "a--NCZ2KA7AR"
      },
      "execution_count": 21,
      "outputs": []
    },
    {
      "cell_type": "markdown",
      "source": [
        "Generating predictions"
      ],
      "metadata": {
        "id": "S6QD-TyziaZm"
      }
    },
    {
      "cell_type": "markdown",
      "source": [
        "The process of generating a predicted value (`y_pred`) for test data (`X_test`) using the trained model"
      ],
      "metadata": {
        "id": "9KEAGIqfmAYN"
      }
    },
    {
      "cell_type": "code",
      "source": [
        "# Test Data Prediction\n",
        "y_pred = model.predict(X_test)"
      ],
      "metadata": {
        "id": "Y2uwtZ89iaAC"
      },
      "execution_count": 22,
      "outputs": []
    },
    {
      "cell_type": "markdown",
      "source": [
        "Performance measurements"
      ],
      "metadata": {
        "id": "iYIt0I7PigRw"
      }
    },
    {
      "cell_type": "markdown",
      "source": [
        "Calculates the accuracy, which represents the proportion of correct predictions made by the model compared to the actual values.\n",
        "\n",
        "Accuracy is an important metric for evaluating model performance, as higher accuracy indicates that the model is making reliable predictions.\n",
        "\n",
        "This code is used to assess how well the model performs on the test data."
      ],
      "metadata": {
        "id": "GNSNmFzUmKL_"
      }
    },
    {
      "cell_type": "code",
      "source": [
        "accuracy_test = accuracy_score(y_test, y_pred)\n",
        "print (accuracy_test)"
      ],
      "metadata": {
        "id": "1as-z4Lyi1EQ",
        "colab": {
          "base_uri": "https://localhost:8080/"
        },
        "outputId": "bc7bb6e5-b991-457c-83d9-b26b469ae20e"
      },
      "execution_count": 23,
      "outputs": [
        {
          "output_type": "stream",
          "name": "stdout",
          "text": [
            "0.8228702993092862\n"
          ]
        }
      ]
    },
    {
      "cell_type": "markdown",
      "source": [
        "Calculates Precision, which is one of the metrics for evaluating the performance of a model. Precision refers to the proportion of true positive predictions (i.e., correctly predicted positive cases) out of all positive predictions made by the model.\n",
        "\n",
        "\n",
        "\n",
        "*   The average='weighted' option calculates the weighted average precision in a multi-class classification problem, giving more importance to classes with more samples. This is particularly useful when dealing with class imbalance, ensuring that the precision is calculated in a way that reflects the distribution of the classes.\n",
        "\n",
        "\n",
        "The code uses the metrics.precision_score function to compute the precision on the test data and stores the result in the variable precision_test."
      ],
      "metadata": {
        "id": "zjPm65BVmNAI"
      }
    },
    {
      "cell_type": "code",
      "source": [
        "precision_test = metrics.precision_score(y_test, y_pred, average='weighted')\n",
        "print (precision_test)"
      ],
      "metadata": {
        "id": "i6qQ2iIZi3yQ",
        "colab": {
          "base_uri": "https://localhost:8080/"
        },
        "outputId": "c66d83d7-2005-4f4c-a68d-d84d0e9d59ec"
      },
      "execution_count": 24,
      "outputs": [
        {
          "output_type": "stream",
          "name": "stdout",
          "text": [
            "0.8469732856391358\n"
          ]
        }
      ]
    },
    {
      "cell_type": "markdown",
      "source": [
        "Calculates Recall, a metric used to evaluate how well a model detects positive instances. Recall measures the proportion of actual positive cases that are correctly identified by the model.\n",
        "\n",
        "* The average='weighted' option computes the weighted average recall in a multi-class classification problem, giving more importance to classes with more samples. This ensures that recall is appropriately adjusted based on the distribution of the classes, which is particularly useful in the presence of class imbalance.\n",
        "\n",
        "The code uses the metrics.recall_score function to calculate recall on the test data and stores the result in the variable recall_test."
      ],
      "metadata": {
        "id": "1Jvx5Q9pmQwl"
      }
    },
    {
      "cell_type": "code",
      "source": [
        "recall_test = metrics.recall_score(y_test, y_pred, average='weighted')\n",
        "print (recall_test)"
      ],
      "metadata": {
        "id": "JSW50Ik6i5xd",
        "colab": {
          "base_uri": "https://localhost:8080/"
        },
        "outputId": "ea5d75c8-e99c-4155-d903-98c11333fefb"
      },
      "execution_count": 25,
      "outputs": [
        {
          "output_type": "stream",
          "name": "stdout",
          "text": [
            "0.8228702993092862\n"
          ]
        }
      ]
    },
    {
      "cell_type": "markdown",
      "source": [
        "Calculates the F1-Score, which is the harmonic mean of Precision and Recall. The F1-Score is a useful metric for evaluating a model's overall performance, especially when there is a need to balance Precision and Recall. A high F1-Score indicates a good balance between these two metrics, while a low F1-Score suggests a significant imbalance between Precision and Recall.\n",
        "\n",
        "* The average='weighted' option computes the weighted average F1-Score in a multi-class classification problem, giving more importance to classes with more samples. This helps adjust for class imbalance when calculating the F1-Score.\n",
        "\n",
        "The code uses the metrics.f1_score function to calculate the F1-Score on the test data and stores the result in the variable f1_test."
      ],
      "metadata": {
        "id": "nsfzhwOLmTvT"
      }
    },
    {
      "cell_type": "code",
      "source": [
        "f1_test = metrics.f1_score(y_test, y_pred, average='weighted')\n",
        "print(f1_test)"
      ],
      "metadata": {
        "id": "26Ff0-ozi7Sw",
        "colab": {
          "base_uri": "https://localhost:8080/"
        },
        "outputId": "23872318-54e5-4166-98b1-48be850f7b3a"
      },
      "execution_count": 26,
      "outputs": [
        {
          "output_type": "stream",
          "name": "stdout",
          "text": [
            "0.8308209214106227\n"
          ]
        }
      ]
    },
    {
      "cell_type": "markdown",
      "source": [
        "Generates and displays a Confusion Matrix to evaluate the performance of a classification model. The Confusion Matrix compares the actual labels (y_test) with the predicted labels (y_pred) and shows the counts of true positives, true negatives, false positives, and false negatives, helping to identify classification errors.\n",
        "\n",
        "* cm = confusion_matrix(y_test, y_pred): This computes the confusion matrix using the actual and predicted values and stores it in cm.\n",
        "\n",
        "* cmp = ConfusionMatrixDisplay(cm, display_labels=[\"1\", \"0\"]): This creates a display object for the confusion matrix, with labels \"1\" and \"0\" representing the positive and negative classes.\n",
        "\n",
        "* cmp.plot(ax=ax): This plots the confusion matrix on the specified axes (ax).\n",
        "\n",
        "The confusion matrix provides a clear visualization of how well the model distinguishes between the classes and helps identify areas where the model is making errors."
      ],
      "metadata": {
        "id": "1sKDAOG5mXsS"
      }
    },
    {
      "cell_type": "code",
      "source": [
        "fig, ax = plt.subplots(figsize=(5, 4), dpi=100)\n",
        "cm = confusion_matrix(y_test, y_pred)\n",
        "cmp = ConfusionMatrixDisplay(confusion_matrix=cm, display_labels=[\"1\", \"0\"])\n",
        "cmp.plot(ax=ax)\n"
      ],
      "metadata": {
        "id": "n7x46IILi8-o",
        "colab": {
          "base_uri": "https://localhost:8080/",
          "height": 405
        },
        "outputId": "e4a2b42a-c91c-494a-8960-9ec1193f4061"
      },
      "execution_count": 27,
      "outputs": [
        {
          "output_type": "execute_result",
          "data": {
            "text/plain": [
              "<sklearn.metrics._plot.confusion_matrix.ConfusionMatrixDisplay at 0x7da94f593130>"
            ]
          },
          "metadata": {},
          "execution_count": 27
        },
        {
          "output_type": "display_data",
          "data": {
            "text/plain": [
              "<Figure size 500x400 with 2 Axes>"
            ],
            "image/png": "[encoded data removed]"
          },
          "metadata": {}
        }
      ]
    },
    {
      "cell_type": "markdown",
      "source": [
        "Generates a Classification Report to evaluate the performance of a classification model. The report provides key metrics such as Precision, Recall, and F1-Score for each class.\n",
        "\n",
        "* report = metrics.classification_report(y_test, y_pred): The classification_report function calculates Precision, Recall, F1-Score, and support for each class, based on the actual labels (y_test) and predicted labels (y_pred), and stores the result in report.\n",
        "\n",
        "* print(report): This prints the classification report, allowing us to assess the model's performance across different metrics.\n",
        "\n",
        "The report helps us understand the performance of the model for each class and identify areas of strength and weakness."
      ],
      "metadata": {
        "id": "Xk9Pgj25miHj"
      }
    },
    {
      "cell_type": "code",
      "source": [
        "report = metrics.classification_report(y_test, y_pred)\n",
        "print(report)"
      ],
      "metadata": {
        "id": "DLIpM5SmjAY5",
        "colab": {
          "base_uri": "https://localhost:8080/"
        },
        "outputId": "6ec42f08-c007-4fc1-e8bc-c4c4ae52b3d9"
      },
      "execution_count": 28,
      "outputs": [
        {
          "output_type": "stream",
          "name": "stdout",
          "text": [
            "              precision    recall  f1-score   support\n",
            "\n",
            "           0       0.92      0.84      0.88      5093\n",
            "           1       0.57      0.75      0.65      1422\n",
            "\n",
            "    accuracy                           0.82      6515\n",
            "   macro avg       0.75      0.80      0.77      6515\n",
            "weighted avg       0.85      0.82      0.83      6515\n",
            "\n"
          ]
        }
      ]
    },
    {
      "cell_type": "code",
      "source": [
        "solution_validate = model.predict(futureSample_X)"
      ],
      "metadata": {
        "id": "sf3fOxaO6qtg"
      },
      "execution_count": 29,
      "outputs": []
    },
    {
      "cell_type": "markdown",
      "source": [
        "Compares predicted values (future_predictions) with actual values (futureSample_y) and computes the accuracy."
      ],
      "metadata": {
        "id": "s20-UgiLm8dI"
      }
    },
    {
      "cell_type": "code",
      "source": [
        "score_validate = accuracy_score(solution_validate, futureSample_y)\n",
        "print (score_validate)"
      ],
      "metadata": {
        "id": "bmCZGotc6sqz",
        "colab": {
          "base_uri": "https://localhost:8080/"
        },
        "outputId": "aa95490a-3905-4074-b59b-3149f992aa6c"
      },
      "execution_count": 30,
      "outputs": [
        {
          "output_type": "stream",
          "name": "stdout",
          "text": [
            "1.0\n"
          ]
        }
      ]
    },
    {
      "cell_type": "markdown",
      "source": [
        "# Random Forest"
      ],
      "metadata": {
        "id": "u7vegQoYkV3N"
      }
    },
    {
      "cell_type": "markdown",
      "source": [
        "The chosen AI technique, **Random Forest**, solves the loan approval prediction problem by leveraging an ensemble of decision trees to classify loan applications as either \"approved\" or \"not approved.\" Here's how it addresses the problem:\n",
        "\n",
        "**Problem representation**:\n",
        "Each loan application is represented as a feature vector, with numerical features such as age, income, and loan amount, and categorical features such as homeownership and loan intent. These features are used to train the Random Forest model.\n",
        "\n",
        "Algorithm Steps in Context:\n",
        "\n",
        "* **Bootstrap sampling**: Random subsets of the training data are created to train each decision tree independently, ensuring diversity in the forest.\n",
        "* **Decision Tree Training**: Each tree is trained to split data based on the most informative features, creating a series of decision boundaries for classifying loan statuses.\n",
        "* **Majority voting**: During prediction, each tree votes on the class, and the forest aggregates these votes to make the final decision. This ensemble approach minimizes errors from individual trees.\n",
        "* **Probability estimation**: For tasks requiring confidence levels, the algorithm averages the predicted probabilities from all trees.\n",
        "\n",
        "By combining the strengths of multiple decision trees, Random Forest handles noisy data, avoids overfitting, and provides robust and accurate predictions for loan approval. Below is the Python implementation of the Random Forest algorithm tailored for this problem."
      ],
      "metadata": {
        "id": "u6lXnNQyx48S"
      }
    },
    {
      "cell_type": "markdown",
      "source": [
        "\n",
        "1. **Initialization (`__init__`):**\n",
        "   - **Purpose:** Sets up the Random Forest model with user-defined hyperparameters:\n",
        "     - `n_estimators`: Number of decision trees in the forest.\n",
        "     - `max_depth`: Maximum depth of each tree (limits overfitting).\n",
        "     - `min_samples_split`: Minimum number of samples required to split a node.\n",
        "     - `max_features`: Maximum number of features considered for each split.\n",
        "\n",
        "2. **Bootstrap Sampling (`_bootstrap_sample`):**\n",
        "   - **Purpose:** Creates a random subset of the dataset with replacement, ensuring each tree is trained on a slightly different sample. This diversity reduces overfitting.\n",
        "\n",
        "3. **Training (`fit`):**\n",
        "   - **Purpose:** Trains the Random Forest by:\n",
        "     - Generating bootstrap samples.\n",
        "     - Training individual decision trees on these samples.\n",
        "     - Adding the trained trees to the forest.\n",
        "\n",
        "4. **Prediction (`predict`):**\n",
        "   - **Purpose:** Aggregates predictions from all trees using majority voting:\n",
        "     - Each tree votes for a class.\n",
        "     - The class with the most votes is the final prediction.\n",
        "\n",
        "5. **Probability Prediction (`predict_proba`):**\n",
        "   - **Purpose:** Predicts class probabilities:\n",
        "     - Each tree outputs probabilities for each class.\n",
        "     - The average probabilities across all trees provide the final class probabilities."
      ],
      "metadata": {
        "id": "UWJ9mC2L6OuC"
      }
    },
    {
      "cell_type": "code",
      "source": [
        "import numpy as np\n",
        "from collections import Counter\n",
        "from sklearn.tree import DecisionTreeClassifier\n",
        "from sklearn.metrics import accuracy_score, classification_report, confusion_matrix, ConfusionMatrixDisplay\n",
        "\n",
        "class RandomForest:\n",
        "    def __init__(self, n_estimators=10, max_depth=None, min_samples_split=2, max_features=None):\n",
        "        self.n_estimators = n_estimators\n",
        "        self.max_depth = max_depth\n",
        "        self.min_samples_split = min_samples_split\n",
        "        self.max_features = max_features\n",
        "        self.trees = []\n",
        "\n",
        "    def _bootstrap_sample(self, X, y):\n",
        "        n_samples = X.shape[0]\n",
        "        indices = np.random.choice(n_samples, n_samples, replace=True)\n",
        "        return X[indices], y[indices]\n",
        "\n",
        "    def fit(self, X, y):\n",
        "        self.trees = []\n",
        "        for _ in range(self.n_estimators):\n",
        "            tree = DecisionTreeClassifier(\n",
        "                max_depth=self.max_depth,\n",
        "                min_samples_split=self.min_samples_split,\n",
        "                max_features=self.max_features\n",
        "            )\n",
        "            X_sample, y_sample = self._bootstrap_sample(X, y)\n",
        "            tree.fit(X_sample, y_sample)\n",
        "            self.trees.append(tree)\n",
        "\n",
        "    def predict(self, X):\n",
        "        tree_predictions = np.array([tree.predict(X) for tree in self.trees])\n",
        "        majority_vote = np.apply_along_axis(lambda x: Counter(x).most_common(1)[0][0], axis=0, arr=tree_predictions)\n",
        "        return majority_vote\n",
        "\n",
        "    def predict_proba(self, X):\n",
        "      tree_probas = np.array([tree.predict_proba(X) for tree in self.trees])\n",
        "      avg_probas = np.mean(tree_probas, axis=0)\n",
        "      return avg_probas\n"
      ],
      "metadata": {
        "id": "SJKyuBSskZ3b"
      },
      "execution_count": 31,
      "outputs": []
    },
    {
      "cell_type": "code",
      "source": [
        "# Convert training and testing datasets to NumPy arrays\n",
        "X_train_np = X_train.to_numpy()\n",
        "y_train_np = y_train.to_numpy()\n",
        "X_test_np = X_test.to_numpy()\n",
        "y_test_np = y_test.to_numpy()\n",
        "\n",
        "# Initialize and configure the Random Forest model\n",
        "# Parameters:\n",
        "# - n_estimators=100: Number of decision trees in the forest.\n",
        "# - max_depth=10: Maximum depth of each decision tree to prevent overfitting.\n",
        "# - max_features='sqrt': Use the square root of the total features for splitting.\n",
        "rf_model = RandomForest(n_estimators=100, max_depth=10, max_features='sqrt')\n",
        "\n",
        "# Train the Random Forest model on the training data\n",
        "rf_model.fit(X_train_np, y_train_np)\n",
        "\n",
        "# Predict the loan statuses for the test data\n",
        "# Aggregates predictions from all trees in the forest using majority voting.\n",
        "rf_predictions = rf_model.predict(X_test_np)\n",
        "\n",
        "# Calculate and print the accuracy of the model\n",
        "accuracy = accuracy_score(y_test_np, rf_predictions)\n",
        "print(f\"Accuracy: {accuracy:.4f}\")\n",
        "\n",
        "# Generate and print the classification report\n",
        "# Precision, recall, F1-score, and support for each class.\n",
        "print(\"\\nClassification Report:\")\n",
        "print(classification_report(y_test_np, rf_predictions))\n",
        "\n",
        "# Create and display the confusion matrix\n",
        "cm = confusion_matrix(y_test_np, rf_predictions)\n",
        "disp = ConfusionMatrixDisplay(confusion_matrix=cm, display_labels=np.unique(y_test_np))\n",
        "disp.plot()  # Displays the confusion matrix as a heatmap.\n"
      ],
      "metadata": {
        "id": "P_yJeDIukdoF",
        "colab": {
          "base_uri": "https://localhost:8080/",
          "height": 675
        },
        "outputId": "32e5ed62-1e4a-4f7e-ae3d-a8abb971ed33"
      },
      "execution_count": 32,
      "outputs": [
        {
          "output_type": "stream",
          "name": "stdout",
          "text": [
            "Accuracy: 0.9116\n",
            "\n",
            "Classification Report:\n",
            "              precision    recall  f1-score   support\n",
            "\n",
            "           0       0.93      0.96      0.94      5093\n",
            "           1       0.84      0.73      0.78      1422\n",
            "\n",
            "    accuracy                           0.91      6515\n",
            "   macro avg       0.88      0.85      0.86      6515\n",
            "weighted avg       0.91      0.91      0.91      6515\n",
            "\n"
          ]
        },
        {
          "output_type": "execute_result",
          "data": {
            "text/plain": [
              "<sklearn.metrics._plot.confusion_matrix.ConfusionMatrixDisplay at 0x7da94f5b1b10>"
            ]
          },
          "metadata": {},
          "execution_count": 32
        },
        {
          "output_type": "display_data",
          "data": {
            "text/plain": [
              "<Figure size 640x480 with 2 Axes>"
            ],
            "image/png": "[encoded data removed]"
          },
          "metadata": {}
        }
      ]
    },
    {
      "cell_type": "markdown",
      "source": [
        "Evaluates the **discrimination ability** of the Random Forest model by calculating and visualizing the **Receiver Operating Characteristic (ROC) curve** and the **Area Under the Curve (AUC)**.\n",
        "\n",
        "- **ROC Curve Representation:**  \n",
        "  The ROC curve plots the **True Positive Rate (TPR)** against the **False Positive Rate (FPR)** at different classification thresholds. It demonstrates how well the model distinguishes between approved and not-approved loans.\n",
        "\n",
        "- **AUC Metric:**  \n",
        "  The **Area Under the Curve (AUC)** quantifies the overall performance of the model. An AUC closer to 1.0 indicates excellent discrimination, while 0.5 suggests no better than random guessing.\n"
      ],
      "metadata": {
        "id": "dXvJNLGjzTaQ"
      }
    },
    {
      "cell_type": "code",
      "source": [
        "from sklearn.metrics import roc_curve, auc\n",
        "import matplotlib.pyplot as plt\n",
        "\n",
        "# Predict probabilities for the positive class (assuming binary classification)\n",
        "# This retrieves the probabilities for the \"approved\" class (positive class) from the model.\n",
        "rf_probas = rf_model.predict_proba(X_test_np)[:, 1]\n",
        "\n",
        "# Compute the ROC curve\n",
        "# fpr: False Positive Rate\n",
        "# tpr: True Positive Rate\n",
        "# thresholds: Decision thresholds corresponding to fpr and tpr.\n",
        "fpr, tpr, thresholds = roc_curve(y_test_np, rf_probas)\n",
        "\n",
        "# Compute the AUC (Area Under the Curve)\n",
        "# AUC measures the ability of the model to distinguish between classes.\n",
        "roc_auc = auc(fpr, tpr)\n",
        "print(f\"ROC-AUC: {roc_auc:.4f}\")\n",
        "\n",
        "\n",
        "# Plot the ROC curve\n",
        "plt.figure(figsize=(8, 6))\n",
        "plt.plot(fpr, tpr, color='blue', label=f'ROC Curve (AUC = {roc_auc:.4f})')\n",
        "plt.plot([0, 1], [0, 1], color='gray', linestyle='--')\n",
        "plt.xlabel('False Positive Rate')\n",
        "plt.ylabel('True Positive Rate')\n",
        "plt.title('Receiver Operating Characteristic (ROC) Curve')\n",
        "plt.legend(loc='lower right')\n",
        "plt.grid(alpha=0.3)\n",
        "plt.show()\n"
      ],
      "metadata": {
        "id": "4fuJrnaiWghz",
        "colab": {
          "base_uri": "https://localhost:8080/",
          "height": 581
        },
        "outputId": "407b032b-235c-45a4-bf22-6a5e643ff3bd"
      },
      "execution_count": 33,
      "outputs": [
        {
          "output_type": "stream",
          "name": "stdout",
          "text": [
            "ROC-AUC: 0.9210\n"
          ]
        },
        {
          "output_type": "display_data",
          "data": {
            "text/plain": [
              "<Figure size 800x600 with 1 Axes>"
            ],
            "image/png": "[encoded data removed]"
          },
          "metadata": {}
        }
      ]
    },
    {
      "cell_type": "markdown",
      "source": [
        "\n",
        "Implements **randomized hyperparameter tuning** to find the optimal parameters for the Random Forest model in the context of loan approval prediction. Here's how it works:\n",
        "\n",
        "- **Problem representation:**  \n",
        "  The model is tuned to maximize its ability to classify loan approvals accurately. The dataset is represented as training (`X_train_np`, `y_train_np`) and testing (`X_test_np`, `y_test_np`) sets, ensuring consistent evaluation across parameter combinations.\n",
        "\n",
        "- **Steps in Hyperparameter Tuning:**  \n",
        "  1. **Hyperparameter Sampling:** The algorithm explores a pre-defined parameter space, including the number of trees (`n_estimators`), maximum tree depth (`max_depth`), minimum samples required to split a node (`min_samples_split`), and the number of features considered for splitting (`max_features`). For each iteration, a random combination is sampled.  \n",
        "  2. **Model Training:** A new Random Forest model is initialized with the sampled parameters and trained on the training data.  \n",
        "  3. **Evaluation:** The model is evaluated using the **ROC-AUC** score, which measures its ability to distinguish between approved and not-approved loans across thresholds.  \n",
        "  4. **Best Model Selection:** If the current model achieves a higher ROC-AUC score than the previous best, it is stored as the best model along with its parameters.  \n",
        "\n",
        "This randomized approach efficiently explores the parameter space and identifies the configuration that maximizes model performance, balancing predictive accuracy and computational resources.\n"
      ],
      "metadata": {
        "id": "fnZyfLTyzvMu"
      }
    },
    {
      "cell_type": "code",
      "source": [
        "import random\n",
        "\n",
        "# Define hyperparameter space\n",
        "param_space = {\n",
        "    'n_estimators': [10, 50, 100],\n",
        "    'max_depth': [5, 10, None],\n",
        "    'min_samples_split': [2, 5, 10],\n",
        "    'max_features': [None, 'sqrt', 'log2']\n",
        "}\n",
        "\n",
        "# Number of random combinations to try\n",
        "n_combinations = 10\n",
        "\n",
        "# Initialize variables to store the best results\n",
        "best_params = None\n",
        "best_score = 0\n",
        "best_model = None\n",
        "\n",
        "for _ in range(n_combinations):\n",
        "    # Randomly sample hyperparameters\n",
        "    n_estimators = random.choice(param_space['n_estimators'])\n",
        "    max_depth = random.choice(param_space['max_depth'])\n",
        "    min_samples_split = random.choice(param_space['min_samples_split'])\n",
        "    max_features = random.choice(param_space['max_features'])\n",
        "\n",
        "    # Initialize and train the Random Forest model\n",
        "    rf_model = RandomForest(\n",
        "        n_estimators=n_estimators,\n",
        "        max_depth=max_depth,\n",
        "        min_samples_split=min_samples_split,\n",
        "        max_features=max_features\n",
        "    )\n",
        "    rf_model.fit(X_train_np, y_train_np)\n",
        "\n",
        "    # Predict probabilities for the test set\n",
        "    rf_probas = rf_model.predict_proba(X_test_np)[:, 1]\n",
        "\n",
        "    # Compute ROC-AUC\n",
        "    fpr, tpr, _ = roc_curve(y_test_np, rf_probas)\n",
        "    roc_auc = auc(fpr, tpr)\n",
        "\n",
        "    # Check if this is the best model\n",
        "    if roc_auc > best_score:\n",
        "        best_score = roc_auc\n",
        "        best_params = {\n",
        "            'n_estimators': n_estimators,\n",
        "            'max_depth': max_depth,\n",
        "            'min_samples_split': min_samples_split,\n",
        "            'max_features': max_features\n",
        "        }\n",
        "        best_model = rf_model\n",
        "\n",
        "print(f\"Best Parameters: {best_params}\")\n",
        "print(f\"Best ROC-AUC: {best_score:.4f}\")\n"
      ],
      "metadata": {
        "id": "_WrOy9FV_hll",
        "colab": {
          "base_uri": "https://localhost:8080/"
        },
        "outputId": "0532ffb9-4666-4977-fccd-cd3bfe0e703f"
      },
      "execution_count": 35,
      "outputs": [
        {
          "output_type": "stream",
          "name": "stdout",
          "text": [
            "Best Parameters: {'n_estimators': 100, 'max_depth': None, 'min_samples_split': 10, 'max_features': 'log2'}\n",
            "Best ROC-AUC: 0.9282\n"
          ]
        }
      ]
    },
    {
      "cell_type": "markdown",
      "source": [
        "# Logistic Regression for Classifcation & Assigning a Likelihood Ratio"
      ],
      "metadata": {
        "id": "xHzS720xxud7"
      }
    },
    {
      "cell_type": "markdown",
      "source": [
        "Logistic regression is an AI technique designed to model binary outcomes, such as whether a loan will be approved (loan_status = 1) or not (loan_status = 0). It estimates the probability of an outcome based on input variables, such as person_income, loan_amnt, loan_percent_income, and person_age. Logistic regression is ideal here because it not only predicts outcomes but also explains how each factor influences loan approval likelihood.\n",
        "\n",
        "Why Logistic Regression for Loan Approval? We chose logistic regression because it is interpretable and works well with both numerical data (e.g., income and loan amount) and categorical data (e.g., loan intent and grade). The model assigns weights (coefficients) to each variable, which helps us understand their importance in predicting loan approval."
      ],
      "metadata": {
        "id": "IsKSRJrsNkBm"
      }
    },
    {
      "cell_type": "code",
      "source": [
        "import pandas as pd\n",
        "import statsmodels.api as sm\n",
        "import matplotlib.pyplot as plt\n",
        "from google.colab import drive\n",
        "from google.colab import files"
      ],
      "metadata": {
        "id": "skeHV8F9yPoM"
      },
      "execution_count": 36,
      "outputs": []
    },
    {
      "cell_type": "code",
      "source": [
        "# clean data\n",
        "data_clean = df[['person_income', 'loan_amnt']].dropna()\n",
        "data_clean.head()"
      ],
      "metadata": {
        "id": "X_ypPV1Xy0JD",
        "colab": {
          "base_uri": "https://localhost:8080/",
          "height": 206
        },
        "outputId": "ed60865e-cbe9-4a6c-96e7-b6cedd2b6094"
      },
      "execution_count": 37,
      "outputs": [
        {
          "output_type": "execute_result",
          "data": {
            "text/plain": [
              "   person_income  loan_amnt\n",
              "0          59000      35000\n",
              "1           9600       1000\n",
              "2           9600       5500\n",
              "3          65500      35000\n",
              "4          54400      35000"
            ],
            "text/html": [
              "\n",
              "  <div id=\"df-e55090e6-0b45-4b70-9d5a-0587f72e9bc3\" class=\"colab-df-container\">\n",
              "    <div>\n",
              "<style scoped>\n",
              "    .dataframe tbody tr th:only-of-type {\n",
              "        vertical-align: middle;\n",
              "    }\n",
              "\n",
              "    .dataframe tbody tr th {\n",
              "        vertical-align: top;\n",
              "    }\n",
              "\n",
              "    .dataframe thead th {\n",
              "        text-align: right;\n",
              "    }\n",
              "</style>\n",
              "<table border=\"1\" class=\"dataframe\">\n",
              "  <thead>\n",
              "    <tr style=\"text-align: right;\">\n",
              "      <th></th>\n",
              "      <th>person_income</th>\n",
              "      <th>loan_amnt</th>\n",
              "    </tr>\n",
              "  </thead>\n",
              "  <tbody>\n",
              "    <tr>\n",
              "      <th>0</th>\n",
              "      <td>59000</td>\n",
              "      <td>35000</td>\n",
              "    </tr>\n",
              "    <tr>\n",
              "      <th>1</th>\n",
              "      <td>9600</td>\n",
              "      <td>1000</td>\n",
              "    </tr>\n",
              "    <tr>\n",
              "      <th>2</th>\n",
              "      <td>9600</td>\n",
              "      <td>5500</td>\n",
              "    </tr>\n",
              "    <tr>\n",
              "      <th>3</th>\n",
              "      <td>65500</td>\n",
              "      <td>35000</td>\n",
              "    </tr>\n",
              "    <tr>\n",
              "      <th>4</th>\n",
              "      <td>54400</td>\n",
              "      <td>35000</td>\n",
              "    </tr>\n",
              "  </tbody>\n",
              "</table>\n",
              "</div>\n",
              "    <div class=\"colab-df-buttons\">\n",
              "\n",
              "  <div class=\"colab-df-container\">\n",
              "    <button class=\"colab-df-convert\" onclick=\"convertToInteractive('df-e55090e6-0b45-4b70-9d5a-0587f72e9bc3')\"\n",
              "            title=\"Convert this dataframe to an interactive table.\"\n",
              "            style=\"display:none;\">\n",
              "\n",
              "  <svg xmlns=\"http://www.w3.org/2000/svg\" height=\"24px\" viewBox=\"0 -960 960 960\">\n",
              "    <path d=\"M120-120v-720h720v720H120Zm60-500h600v-160H180v160Zm220 220h160v-160H400v160Zm0 220h160v-160H400v160ZM180-400h160v-160H180v160Zm440 0h160v-160H620v160ZM180-180h160v-160H180v160Zm440 0h160v-160H620v160Z\"/>\n",
              "  </svg>\n",
              "    </button>\n",
              "\n",
              "  <style>\n",
              "    .colab-df-container {\n",
              "      display:flex;\n",
              "      gap: 12px;\n",
              "    }\n",
              "\n",
              "    .colab-df-convert {\n",
              "      background-color: #E8F0FE;\n",
              "      border: none;\n",
              "      border-radius: 50%;\n",
              "      cursor: pointer;\n",
              "      display: none;\n",
              "      fill: #1967D2;\n",
              "      height: 32px;\n",
              "      padding: 0 0 0 0;\n",
              "      width: 32px;\n",
              "    }\n",
              "\n",
              "    .colab-df-convert:hover {\n",
              "      background-color: #E2EBFA;\n",
              "      box-shadow: 0px 1px 2px rgba(60, 64, 67, 0.3), 0px 1px 3px 1px rgba(60, 64, 67, 0.15);\n",
              "      fill: #174EA6;\n",
              "    }\n",
              "\n",
              "    .colab-df-buttons div {\n",
              "      margin-bottom: 4px;\n",
              "    }\n",
              "\n",
              "    [theme=dark] .colab-df-convert {\n",
              "      background-color: #3B4455;\n",
              "      fill: #D2E3FC;\n",
              "    }\n",
              "\n",
              "    [theme=dark] .colab-df-convert:hover {\n",
              "      background-color: #434B5C;\n",
              "      box-shadow: 0px 1px 3px 1px rgba(0, 0, 0, 0.15);\n",
              "      filter: drop-shadow(0px 1px 2px rgba(0, 0, 0, 0.3));\n",
              "      fill: #FFFFFF;\n",
              "    }\n",
              "  </style>\n",
              "\n",
              "    <script>\n",
              "      const buttonEl =\n",
              "        document.querySelector('#df-e55090e6-0b45-4b70-9d5a-0587f72e9bc3 button.colab-df-convert');\n",
              "      buttonEl.style.display =\n",
              "        google.colab.kernel.accessAllowed ? 'block' : 'none';\n",
              "\n",
              "      async function convertToInteractive(key) {\n",
              "        const element = document.querySelector('#df-e55090e6-0b45-4b70-9d5a-0587f72e9bc3');\n",
              "        const dataTable =\n",
              "          await google.colab.kernel.invokeFunction('convertToInteractive',\n",
              "                                                    [key], {});\n",
              "        if (!dataTable) return;\n",
              "\n",
              "        const docLinkHtml = 'Like what you see? Visit the ' +\n",
              "          '<a target=\"_blank\" href=https://colab.research.google.com/notebooks/data_table.ipynb>data table notebook</a>'\n",
              "          + ' to learn more about interactive tables.';\n",
              "        element.innerHTML = '';\n",
              "        dataTable['output_type'] = 'display_data';\n",
              "        await google.colab.output.renderOutput(dataTable, element);\n",
              "        const docLink = document.createElement('div');\n",
              "        docLink.innerHTML = docLinkHtml;\n",
              "        element.appendChild(docLink);\n",
              "      }\n",
              "    </script>\n",
              "  </div>\n",
              "\n",
              "\n",
              "<div id=\"df-474e8701-0dbc-411c-b69a-19021708e688\">\n",
              "  <button class=\"colab-df-quickchart\" onclick=\"quickchart('df-474e8701-0dbc-411c-b69a-19021708e688')\"\n",
              "            title=\"Suggest charts\"\n",
              "            style=\"display:none;\">\n",
              "\n",
              "<svg xmlns=\"http://www.w3.org/2000/svg\" height=\"24px\"viewBox=\"0 0 24 24\"\n",
              "     width=\"24px\">\n",
              "    <g>\n",
              "        <path d=\"M19 3H5c-1.1 0-2 .9-2 2v14c0 1.1.9 2 2 2h14c1.1 0 2-.9 2-2V5c0-1.1-.9-2-2-2zM9 17H7v-7h2v7zm4 0h-2V7h2v10zm4 0h-2v-4h2v4z\"/>\n",
              "    </g>\n",
              "</svg>\n",
              "  </button>\n",
              "\n",
              "<style>\n",
              "  .colab-df-quickchart {\n",
              "      --bg-color: #E8F0FE;\n",
              "      --fill-color: #1967D2;\n",
              "      --hover-bg-color: #E2EBFA;\n",
              "      --hover-fill-color: #174EA6;\n",
              "      --disabled-fill-color: #AAA;\n",
              "      --disabled-bg-color: #DDD;\n",
              "  }\n",
              "\n",
              "  [theme=dark] .colab-df-quickchart {\n",
              "      --bg-color: #3B4455;\n",
              "      --fill-color: #D2E3FC;\n",
              "      --hover-bg-color: #434B5C;\n",
              "      --hover-fill-color: #FFFFFF;\n",
              "      --disabled-bg-color: #3B4455;\n",
              "      --disabled-fill-color: #666;\n",
              "  }\n",
              "\n",
              "  .colab-df-quickchart {\n",
              "    background-color: var(--bg-color);\n",
              "    border: none;\n",
              "    border-radius: 50%;\n",
              "    cursor: pointer;\n",
              "    display: none;\n",
              "    fill: var(--fill-color);\n",
              "    height: 32px;\n",
              "    padding: 0;\n",
              "    width: 32px;\n",
              "  }\n",
              "\n",
              "  .colab-df-quickchart:hover {\n",
              "    background-color: var(--hover-bg-color);\n",
              "    box-shadow: 0 1px 2px rgba(60, 64, 67, 0.3), 0 1px 3px 1px rgba(60, 64, 67, 0.15);\n",
              "    fill: var(--button-hover-fill-color);\n",
              "  }\n",
              "\n",
              "  .colab-df-quickchart-complete:disabled,\n",
              "  .colab-df-quickchart-complete:disabled:hover {\n",
              "    background-color: var(--disabled-bg-color);\n",
              "    fill: var(--disabled-fill-color);\n",
              "    box-shadow: none;\n",
              "  }\n",
              "\n",
              "  .colab-df-spinner {\n",
              "    border: 2px solid var(--fill-color);\n",
              "    border-color: transparent;\n",
              "    border-bottom-color: var(--fill-color);\n",
              "    animation:\n",
              "      spin 1s steps(1) infinite;\n",
              "  }\n",
              "\n",
              "  @keyframes spin {\n",
              "    0% {\n",
              "      border-color: transparent;\n",
              "      border-bottom-color: var(--fill-color);\n",
              "      border-left-color: var(--fill-color);\n",
              "    }\n",
              "    20% {\n",
              "      border-color: transparent;\n",
              "      border-left-color: var(--fill-color);\n",
              "      border-top-color: var(--fill-color);\n",
              "    }\n",
              "    30% {\n",
              "      border-color: transparent;\n",
              "      border-left-color: var(--fill-color);\n",
              "      border-top-color: var(--fill-color);\n",
              "      border-right-color: var(--fill-color);\n",
              "    }\n",
              "    40% {\n",
              "      border-color: transparent;\n",
              "      border-right-color: var(--fill-color);\n",
              "      border-top-color: var(--fill-color);\n",
              "    }\n",
              "    60% {\n",
              "      border-color: transparent;\n",
              "      border-right-color: var(--fill-color);\n",
              "    }\n",
              "    80% {\n",
              "      border-color: transparent;\n",
              "      border-right-color: var(--fill-color);\n",
              "      border-bottom-color: var(--fill-color);\n",
              "    }\n",
              "    90% {\n",
              "      border-color: transparent;\n",
              "      border-bottom-color: var(--fill-color);\n",
              "    }\n",
              "  }\n",
              "</style>\n",
              "\n",
              "  <script>\n",
              "    async function quickchart(key) {\n",
              "      const quickchartButtonEl =\n",
              "        document.querySelector('#' + key + ' button');\n",
              "      quickchartButtonEl.disabled = true;  // To prevent multiple clicks.\n",
              "      quickchartButtonEl.classList.add('colab-df-spinner');\n",
              "      try {\n",
              "        const charts = await google.colab.kernel.invokeFunction(\n",
              "            'suggestCharts', [key], {});\n",
              "      } catch (error) {\n",
              "        console.error('Error during call to suggestCharts:', error);\n",
              "      }\n",
              "      quickchartButtonEl.classList.remove('colab-df-spinner');\n",
              "      quickchartButtonEl.classList.add('colab-df-quickchart-complete');\n",
              "    }\n",
              "    (() => {\n",
              "      let quickchartButtonEl =\n",
              "        document.querySelector('#df-474e8701-0dbc-411c-b69a-19021708e688 button');\n",
              "      quickchartButtonEl.style.display =\n",
              "        google.colab.kernel.accessAllowed ? 'block' : 'none';\n",
              "    })();\n",
              "  </script>\n",
              "</div>\n",
              "\n",
              "    </div>\n",
              "  </div>\n"
            ],
            "application/vnd.google.colaboratory.intrinsic+json": {
              "type": "dataframe",
              "variable_name": "data_clean",
              "summary": "{\n  \"name\": \"data_clean\",\n  \"rows\": 32581,\n  \"fields\": [\n    {\n      \"column\": \"person_income\",\n      \"properties\": {\n        \"dtype\": \"number\",\n        \"std\": 61983,\n        \"min\": 4000,\n        \"max\": 6000000,\n        \"num_unique_values\": 4295,\n        \"samples\": [\n          20800,\n          54417,\n          144000\n        ],\n        \"semantic_type\": \"\",\n        \"description\": \"\"\n      }\n    },\n    {\n      \"column\": \"loan_amnt\",\n      \"properties\": {\n        \"dtype\": \"number\",\n        \"std\": 6322,\n        \"min\": 500,\n        \"max\": 35000,\n        \"num_unique_values\": 753,\n        \"samples\": [\n          13125,\n          3675,\n          13800\n        ],\n        \"semantic_type\": \"\",\n        \"description\": \"\"\n      }\n    }\n  ]\n}"
            }
          },
          "metadata": {},
          "execution_count": 37
        }
      ]
    },
    {
      "cell_type": "code",
      "source": [
        "X = data_clean['person_income']  # independent variable\n",
        "y = data_clean['loan_amnt']      # dependent variable\n",
        "X = sm.add_constant(X)           # constant term"
      ],
      "metadata": {
        "id": "yI-xDNghy20r"
      },
      "execution_count": 38,
      "outputs": []
    },
    {
      "cell_type": "code",
      "source": [
        "model = sm.OLS(y, X).fit()       # linear regression model\n",
        "print(model.summary())"
      ],
      "metadata": {
        "id": "QTihAhsIy4nK",
        "colab": {
          "base_uri": "https://localhost:8080/"
        },
        "outputId": "b6e2fcae-2965-489a-9097-6d357f9050a6"
      },
      "execution_count": 39,
      "outputs": [
        {
          "output_type": "stream",
          "name": "stdout",
          "text": [
            "                            OLS Regression Results                            \n",
            "==============================================================================\n",
            "Dep. Variable:              loan_amnt   R-squared:                       0.071\n",
            "Model:                            OLS   Adj. R-squared:                  0.071\n",
            "Method:                 Least Squares   F-statistic:                     2497.\n",
            "Date:                Sun, 17 Nov 2024   Prob (F-statistic):               0.00\n",
            "Time:                        12:22:08   Log-Likelihood:            -3.3017e+05\n",
            "No. Observations:               32581   AIC:                         6.603e+05\n",
            "Df Residuals:                   32579   BIC:                         6.604e+05\n",
            "Df Model:                           1                                         \n",
            "Covariance Type:            nonrobust                                         \n",
            "=================================================================================\n",
            "                    coef    std err          t      P>|t|      [0.025      0.975]\n",
            "---------------------------------------------------------------------------------\n",
            "const          7791.1565     49.339    157.910      0.000    7694.450    7887.863\n",
            "person_income     0.0272      0.001     49.972      0.000       0.026       0.028\n",
            "==============================================================================\n",
            "Omnibus:                     8280.890   Durbin-Watson:                   1.490\n",
            "Prob(Omnibus):                  0.000   Jarque-Bera (JB):           477655.243\n",
            "Skew:                           0.333   Prob(JB):                         0.00\n",
            "Kurtosis:                      21.746   Cond. No.                     1.32e+05\n",
            "==============================================================================\n",
            "\n",
            "Notes:\n",
            "[1] Standard Errors assume that the covariance matrix of the errors is correctly specified.\n",
            "[2] The condition number is large, 1.32e+05. This might indicate that there are\n",
            "strong multicollinearity or other numerical problems.\n"
          ]
        }
      ]
    },
    {
      "cell_type": "code",
      "source": [
        "# plot data\n",
        "plt.figure(figsize=(10, 6))\n",
        "plt.scatter(data_clean['person_income'], data_clean['loan_amnt'], alpha=0.5, label='Data points')\n",
        "plt.plot(data_clean['person_income'], model.predict(X), color='red', label='Regression line')\n",
        "plt.title('Linear Regression: Income vs Loan Amount')\n",
        "plt.xlabel('Person Income ($ Millions)')\n",
        "plt.ylabel('Loan Amount')\n",
        "plt.ylim(0, 40000)\n",
        "plt.legend()\n",
        "plt.grid(True)\n",
        "plt.show()"
      ],
      "metadata": {
        "id": "dEyLyk3Ny7GJ",
        "colab": {
          "base_uri": "https://localhost:8080/",
          "height": 564
        },
        "outputId": "f10e252a-0b52-48d0-b832-b73c0c276997"
      },
      "execution_count": 40,
      "outputs": [
        {
          "output_type": "display_data",
          "data": {
            "text/plain": [
              "<Figure size 1000x600 with 1 Axes>"
            ],
            "image/png": "[encoded data removed]"
          },
          "metadata": {}
        }
      ]
    },
    {
      "cell_type": "code",
      "source": [
        "data_cleaned_age = df[['person_age', 'cb_person_cred_hist_length']].dropna()\n",
        "X_age = data_cleaned_age['person_age']  # independent variable\n",
        "y_hist_length = data_cleaned_age['cb_person_cred_hist_length']  # dependent variable\n",
        "X_age = sm.add_constant(X_age)  # constant term"
      ],
      "metadata": {
        "id": "D-AVbhqby9Cm"
      },
      "execution_count": 41,
      "outputs": []
    },
    {
      "cell_type": "code",
      "source": [
        "model_age = sm.OLS(y_hist_length, X_age).fit()\n",
        "print(model_age.summary())"
      ],
      "metadata": {
        "id": "Lco0IhxGy8_p",
        "colab": {
          "base_uri": "https://localhost:8080/"
        },
        "outputId": "87c2d57e-4cce-43d4-bc3c-cc17ae4a90c7"
      },
      "execution_count": 42,
      "outputs": [
        {
          "output_type": "stream",
          "name": "stdout",
          "text": [
            "                                OLS Regression Results                                \n",
            "======================================================================================\n",
            "Dep. Variable:     cb_person_cred_hist_length   R-squared:                       0.738\n",
            "Model:                                    OLS   Adj. R-squared:                  0.738\n",
            "Method:                         Least Squares   F-statistic:                 9.182e+04\n",
            "Date:                        Sun, 17 Nov 2024   Prob (F-statistic):               0.00\n",
            "Time:                                12:22:10   Log-Likelihood:                -70015.\n",
            "No. Observations:                       32581   AIC:                         1.400e+05\n",
            "Df Residuals:                           32579   BIC:                         1.401e+05\n",
            "Df Model:                                   1                                         \n",
            "Covariance Type:                    nonrobust                                         \n",
            "==============================================================================\n",
            "                 coef    std err          t      P>|t|      [0.025      0.975]\n",
            "------------------------------------------------------------------------------\n",
            "const         -9.4164      0.052   -182.740      0.000      -9.517      -9.315\n",
            "person_age     0.5488      0.002    303.019      0.000       0.545       0.552\n",
            "==============================================================================\n",
            "Omnibus:                    27676.976   Durbin-Watson:                   1.798\n",
            "Prob(Omnibus):                  0.000   Jarque-Bera (JB):         14579207.625\n",
            "Skew:                          -3.045   Prob(JB):                         0.00\n",
            "Kurtosis:                     106.452   Cond. No.                         128.\n",
            "==============================================================================\n",
            "\n",
            "Notes:\n",
            "[1] Standard Errors assume that the covariance matrix of the errors is correctly specified.\n"
          ]
        }
      ]
    },
    {
      "cell_type": "code",
      "source": [
        "plt.figure(figsize=(10, 6))\n",
        "plt.scatter(data_cleaned_age['person_age'], data_cleaned_age['cb_person_cred_hist_length'], alpha=0.5, label='Data points')\n",
        "plt.plot(data_cleaned_age['person_age'], model_age.predict(X_age), color='red', label='Regression line')\n",
        "plt.title('Linear Regression: Person Age vs Credit History Length')\n",
        "plt.xlabel('Person Age')\n",
        "plt.ylabel('Credit History Length')\n",
        "plt.legend()\n",
        "plt.grid(True)\n",
        "plt.show()"
      ],
      "metadata": {
        "id": "ixbMtwDHzAI6",
        "colab": {
          "base_uri": "https://localhost:8080/",
          "height": 564
        },
        "outputId": "f0fc9130-f793-41dc-b881-b3b8cb0b8bbe"
      },
      "execution_count": 43,
      "outputs": [
        {
          "output_type": "display_data",
          "data": {
            "text/plain": [
              "<Figure size 1000x600 with 1 Axes>"
            ],
            "image/png": "[encoded data removed]"
          },
          "metadata": {}
        }
      ]
    },
    {
      "cell_type": "markdown",
      "source": [
        "The likelihood ratio is the predicted probability of loan approval (loan_status = 1). For example, an applicant with high income and a low loan amount might have a likelihood ratio of 0.85, meaning an 85% chance of approval. On the other hand, someone with a high loan percent income—indicating a higher debt burden—might have a likelihood ratio of just 0.30.\n",
        "\n",
        "Techniques Used: The model preprocesses the data by scaling numerical features (like income and loan amount) and encoding categorical features (like loan intent). It uses logistic regression to train on historical data and predicts probabilities for new applications. Each applicant’s attributes are evaluated to produce a likelihood ratio.\n",
        "\n",
        "Model Insights: The output shows that applicants with lower loan percent income (a smaller loan amount relative to their income) are more likely to repay loans and therefore have higher likelihood ratios. For example, someone borrowing $10,000 with an income of $60,000 has more disposable income and a greater chance of approval compared to someone with a lower income and the same loan amount."
      ],
      "metadata": {
        "id": "qaMAC5mHVqwI"
      }
    },
    {
      "cell_type": "code",
      "source": [
        "import pandas as pd\n",
        "from sklearn.model_selection import train_test_split\n",
        "from sklearn.preprocessing import StandardScaler, OneHotEncoder\n",
        "from sklearn.compose import ColumnTransformer\n",
        "from sklearn.pipeline import Pipeline\n",
        "from sklearn.linear_model import LogisticRegression\n",
        "from sklearn.metrics import classification_report\n",
        "\n",
        "model = LogisticRegression(max_iter=500, random_state=42)\n",
        "\n",
        "# Train the model\n",
        "model.fit(X_train, y_train)\n",
        "\n",
        "# Predict probabilities for the test data\n",
        "# - Predict the likelihood (probability) of loan_status being 1 (approved)\n",
        "y_prob = model.predict_proba(X_test)[:, 1]  # Probability of loan_status = 1 (approved)\n",
        "\n",
        "# Combine test data with Likelihood Ratio\n",
        "# - Copy the original test data\n",
        "# - Add the predicted likelihood ratio as a new column\n",
        "results = X_test.copy()  # Copy the original test set\n",
        "results['Likelihood_Ratio'] = y_prob\n",
        "results['Actual_Loan_Status'] = y_test.values  # Add the actual loan status for reference\n",
        "\n",
        "# Display example results\n",
        "print(\"\\nSample Results with Likelihood Ratios:\")\n",
        "print(results.head())\n",
        "\n",
        "# Evaluate the model\n",
        "y_pred = model.predict(X_test)  # Predict loan status using the test data\n",
        "print(\"\\nClassification Report:\")\n",
        "print(classification_report(y_test, y_pred))"
      ],
      "metadata": {
        "id": "y1rU6vMbzDF1",
        "colab": {
          "base_uri": "https://localhost:8080/"
        },
        "outputId": "781c9ba7-7de4-4d67-aae2-1f5493a30a3b"
      },
      "execution_count": 44,
      "outputs": [
        {
          "output_type": "stream",
          "name": "stdout",
          "text": [
            "\n",
            "Sample Results with Likelihood Ratios:\n",
            "       person_age  person_income  person_emp_length  loan_amnt  loan_int_rate  \\\n",
            "6616    -1.032180      -0.390421           0.352704  -0.586222       0.281425   \n",
            "21802    0.864992      -0.327547          -1.254981  -0.392689      -1.128197   \n",
            "31886    1.813578       2.446757          -0.451139   1.478135      -0.199128   \n",
            "17799   -0.273311       1.181422           0.084756   2.338284      -0.006907   \n",
            "5207    -0.842463      -0.568354          -1.254981  -1.102312       0.630627   \n",
            "\n",
            "       loan_percent_income  cb_person_cred_hist_length  \\\n",
            "6616             -0.476832                   -0.998756   \n",
            "21802            -0.281442                    1.157348   \n",
            "31886            -0.769917                    2.235400   \n",
            "17799             0.695508                   -0.459730   \n",
            "5207             -0.965307                   -0.729243   \n",
            "\n",
            "       person_home_ownership_OTHER  person_home_ownership_OWN  \\\n",
            "6616                           0.0                        0.0   \n",
            "21802                          0.0                        0.0   \n",
            "31886                          0.0                        0.0   \n",
            "17799                          0.0                        0.0   \n",
            "5207                           0.0                        1.0   \n",
            "\n",
            "       person_home_ownership_RENT  ...  loan_intent_VENTURE  loan_grade_B  \\\n",
            "6616                          1.0  ...                  0.0           1.0   \n",
            "21802                         1.0  ...                  0.0           0.0   \n",
            "31886                         0.0  ...                  0.0           1.0   \n",
            "17799                         0.0  ...                  0.0           1.0   \n",
            "5207                          0.0  ...                  1.0           0.0   \n",
            "\n",
            "       loan_grade_C  loan_grade_D  loan_grade_E  loan_grade_F  loan_grade_G  \\\n",
            "6616            0.0           0.0           0.0           0.0           0.0   \n",
            "21802           0.0           0.0           0.0           0.0           0.0   \n",
            "31886           0.0           0.0           0.0           0.0           0.0   \n",
            "17799           0.0           0.0           0.0           0.0           0.0   \n",
            "5207            1.0           0.0           0.0           0.0           0.0   \n",
            "\n",
            "       cb_person_default_on_file_Y  Likelihood_Ratio  Actual_Loan_Status  \n",
            "6616                           0.0          0.325592                   0  \n",
            "21802                          0.0          0.219926                   0  \n",
            "31886                          0.0          0.021136                   0  \n",
            "17799                          0.0          0.194654                   0  \n",
            "5207                           1.0          0.019912                   0  \n",
            "\n",
            "[5 rows x 24 columns]\n",
            "\n",
            "Classification Report:\n",
            "              precision    recall  f1-score   support\n",
            "\n",
            "           0       0.93      0.82      0.87      5093\n",
            "           1       0.55      0.78      0.65      1422\n",
            "\n",
            "    accuracy                           0.82      6515\n",
            "   macro avg       0.74      0.80      0.76      6515\n",
            "weighted avg       0.85      0.82      0.83      6515\n",
            "\n"
          ]
        }
      ]
    }
  ]
}